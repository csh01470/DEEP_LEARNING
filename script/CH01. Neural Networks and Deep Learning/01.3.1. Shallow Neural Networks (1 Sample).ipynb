{
 "cells": [
  {
   "attachments": {},
   "cell_type": "markdown",
   "metadata": {},
   "source": [
    "# CH01.2. **Shallow Neural Networks ($ \\, 1 \\, $ Sample)**"
   ]
  },
  {
   "cell_type": "markdown",
   "metadata": {},
   "source": [
    "> ## **Foward Propagatation**"
   ]
  },
  {
   "cell_type": "markdown",
   "metadata": {},
   "source": [
    "#### **[GRAPH]**"
   ]
  },
  {
   "cell_type": "markdown",
   "metadata": {},
   "source": [
    "#### **(1) Feature data** : `input`\n",
    "#### $ \\underset{n\\times{}1}{\\textbf{x}^{(1)}} = \\begin{bmatrix} x_{11} \\\\ x_{21} \\\\ \\cdots{} \\\\ x_{n1} \\end{bmatrix} = \\begin{bmatrix} x^{(1)}_{1} \\\\ x^{(1)}_{2} \\\\ \\cdots{} \\\\ x^{(1)}_{n} \\end{bmatrix} $\n",
    "#### ※ $ \\, n $ : feature size"
   ]
  },
  {
   "cell_type": "markdown",
   "metadata": {},
   "source": [
    "#### **(2) Target data** : `input`\n",
    "#### $ \\underset{1\\times{}1}{y} = y^{(1)} $"
   ]
  },
  {
   "cell_type": "markdown",
   "metadata": {},
   "source": [
    "#### **(3) Weight of $ \\, 1 $-st Hidden Layer** : `parameter`\n",
    "#### $ \\underset{k\\times{}n}{W}^{[1]} = \\begin{bmatrix} w_{1,1}^{[1]} & w_{1,2}^{[1]} & \\cdots{} & w_{1,n}^{[1]} \\\\ w_{2,1}^{[1]} & w_{2,2}^{[1]} & \\cdots{} & w_{2,n}^{[1]} \\\\ \\cdots{} & \\cdots{} & \\cdots{} & \\cdots{} \\\\ w^{[1]}_{k,1} & w_{k,2}^{[1]} & \\cdots{} & w_{k,n}^{[1]} \\end{bmatrix} = \\begin{bmatrix} (\\textbf{w}^{[1]}_{1})^{T} \\\\ (\\textbf{w}^{[1]}_{2})^{T} \\\\ \\cdots{} \\\\ (\\textbf{w}^{[1]}_{k})^{T} \\end{bmatrix} $\n",
    "#### ※ $ \\, k $ : node size of $ \\, 1 $-st hidden layer"
   ]
  },
  {
   "cell_type": "markdown",
   "metadata": {},
   "source": [
    "#### **(4) Bias of $ \\, 1 $-st Hidden Layer** : `parameter`\n",
    "#### $ \\underset{k\\times{}1}{\\textbf{b}^{[1]}} = \\begin{bmatrix} b^{[1]}_{1} \\\\ b^{[1]}_{2} \\\\ \\cdots{} \\\\ b^{[1]}_{k} \\end{bmatrix} $"
   ]
  },
  {
   "cell_type": "markdown",
   "metadata": {},
   "source": [
    "#### **(5) Linear transformation of $ \\, 1 $-st Hidden Layer** :\n",
    "#### $ \\underset{k\\times{}1}{\\textbf{z}^{[1](1)}} = \\underset{k\\times{}n}{W^{[1]}}\\cdot{}\\underset{n\\times{}1}{\\textbf{x}^{(1)}} + \\underset{k\\times{}1}{\\textbf{b}^{[1]}} $\n",
    "#### $ \\hspace{0.85cm} = \\begin{bmatrix} (\\textbf{w}^{[1]}_{1})^{T} \\cdot{} \\textbf{x}^{(1)} + b^{[1]}_{1}  \\\\ (\\textbf{w}^{[1]}_{2})^{T} \\cdot{} \\textbf{x}^{(1)} + b^{[1]}_{2} \\\\ \\cdots{} \\\\ (\\textbf{w}^{[1]}_{k})^{T} \\cdot{} \\textbf{x}^{(1)} + b^{[1]}_{k} \\end{bmatrix} $\n",
    "#### $ \\hspace{0.85cm} = \\begin{bmatrix} w_{1,1}^{[1]} & w_{1,2}^{[1]} & \\cdots{} & w_{1,n}^{[1]} \\\\ w_{2,1}^{[1]} & w_{2,2}^{[1]} & \\cdots{} & w_{2,n}^{[1]} \\\\ \\cdots{} & \\cdots{} & \\cdots{} & \\cdots{} \\\\ w^{[1]}_{k,1} & w_{k,2}^{[1]} & \\cdots{} & w_{k,n}^{[1]} \\end{bmatrix} \\begin{bmatrix} x^{(1)}_{1} \\\\ x^{(1)}_{2} \\\\ \\cdots{} \\\\ x^{(1)}_{n} \\end{bmatrix} + \\begin{bmatrix} b^{[1]}_{1} \\\\ b^{[1]}_{2} \\\\ \\cdots{} \\\\ b^{[1]}_{k} \\end{bmatrix} $\n",
    "#### $ \\hspace{0.85cm} = \\begin{bmatrix} \\sum{}^{n}_{i=1}w^{[1]}_{1,i} \\cdot{} x^{(1)}_{i} + b^{[1]}_{1} \\\\ \\sum{}^{n}_{i=1}w^{[1]}_{2,i} \\cdot{} x^{(1)}_{i} + b^{[1]}_{2} \\\\ \\cdots{} \\\\ \\sum{}^{n}_{i=1}w^{[1]}_{k,i} \\cdot{} x^{(1)}_{i} + b^{[1]}_{k} \\end{bmatrix} $ \n",
    "#### $ \\hspace{0.85cm} = \\begin{bmatrix} z^{[1](1)}_{1} \\\\ z^{[1](1)}_{2} \\\\ \\cdots{} \\\\ z^{[1](1)}_{k} \\end{bmatrix} $"
   ]
  },
  {
   "cell_type": "markdown",
   "metadata": {},
   "source": [
    "#### **(6) Activate Function of $ \\, 1 $-st Hidden Layer** :\n",
    "#### $ \\underset{k\\times{}1}{\\textbf{a}^{[1](1)}} = g(\\textbf{z}^{[1](1)}) $\n",
    "#### $ \\hspace{0.875cm} = \\begin{bmatrix} g(z^{[1](1)}_{1}) \\\\ g(z^{[1](1)}_{2}) \\\\ \\cdots{} \\\\ g(z^{[1](1)}_{k}) \\end{bmatrix} = \\begin{bmatrix} a^{[1](1)}_{1} \\\\ a^{[1](1)}_{2} \\\\ \\cdots{} \\\\ a^{[1](1)}_{k} \\end{bmatrix} $ "
   ]
  },
  {
   "cell_type": "markdown",
   "metadata": {},
   "source": [
    "#### **(7) Weight of Output Layer** : `parameter`\n",
    "#### $ \\underset{1\\times{}k}{W}^{[2]} = \\begin{bmatrix} w_{1}^{[2]} & w_{2}^{[2]} & \\cdots{} & w_{k}^{[2]} \\end{bmatrix} = \\begin{bmatrix} (\\textbf{w}^{[2]}_{1})^{T} \\end{bmatrix} $"
   ]
  },
  {
   "cell_type": "markdown",
   "metadata": {},
   "source": [
    "#### **(8) Bias of Output Layer** : `parameter`\n",
    "#### $ \\underset{1\\times{}1}b^{[2]} = b^{[2]} $"
   ]
  },
  {
   "cell_type": "markdown",
   "metadata": {},
   "source": [
    "#### **(9) Linear Transformation of Output Layer** :\n",
    "#### $ \\underset{1\\times{}1}{z^{[2](1)}} = \\underset{1\\times{}k}{W^{[2]}}\\cdot{}\\underset{k\\times{}1}{\\textbf{a}^{[1](1)}} + \\underset{1\\times{}1}{\\textbf{b}^{[2]}} $\n",
    "#### $ \\hspace{0.875cm} = \\begin{bmatrix} w_{1}^{[2]} & w_{2}^{[2]} & \\cdots{} & w_{k}^{[2]} \\end{bmatrix} \\begin{bmatrix} a^{[1](1)}_{1} \\\\ a^{[1](1)}_{2} \\\\ \\cdots{} \\\\ a^{[1](1)}_{k} \\end{bmatrix} + b^{[2]} $\n",
    "#### $ \\hspace{0.875cm} = w^{[2]}_{1} a^{[1](1)}_{1} + w^{[2]}_{2} a^{[1](1)}_{2} + \\cdots{} + w^{[2]}_{k} a^{[1](1)}_{k} + b^{[2]}  $\n",
    "#### $ \\hspace{0.875cm} = \\displaystyle\\sum^{k}_{i=1}w^{[2]}_{i} a^{[1](1)}_{i} + b^{[2]} $"
   ]
  },
  {
   "cell_type": "markdown",
   "metadata": {},
   "source": [
    "#### **(10) Estimate Target($ \\hat{\\text{y}} $)** : `output`\n",
    "#### $ \\underset{1\\times{}1}{a^{[2](1)}} = \\hat{y}^{(1)} = \\sigma{}(z^{[2](1)}) = \\frac{1}{1+e^{-z^{[2](1)}}} = \\frac{1}{1+e^{-(\\sum{}^{k}_{i=1}w^{[2]}_{i} g(z^{[1](1)}_{i}) + b^{[2]})}} \\;\\; $ (sigmoid)"
   ]
  },
  {
   "cell_type": "markdown",
   "metadata": {},
   "source": [
    "#### **(11) Loss Function = Cost Function** :\n",
    "#### $ \\underset{1\\times{}1}{l^{(1)}} = \\ell{}(\\hat{y}^{(1)},\\, y^{(1)}) = -(y^{(1)}\\log{}(\\hat{y}^{(1)})+(1-y^{(1)})\\log{}(1-\\hat{y}^{(1)})) \\;\\; $ (cross-entropy)"
   ]
  },
  {
   "cell_type": "markdown",
   "metadata": {},
   "source": [
    "<b></b>"
   ]
  },
  {
   "cell_type": "markdown",
   "metadata": {},
   "source": [
    "> ## **Back Propagation**"
   ]
  },
  {
   "cell_type": "markdown",
   "metadata": {},
   "source": [
    "#### **[GRAPH]**"
   ]
  },
  {
   "cell_type": "markdown",
   "metadata": {},
   "source": [
    "#### **(1) $ \\frac{\\text{d}l^{(1)}}{\\text{d}\\hat{y}^{(1)}} = \\frac{\\text{d}l^{(1)}}{\\text{d}a^{[2](1)}} $** : \n",
    "#### $ \\underset{1\\times{}1}{\\frac{\\text{d}l^{(1)}}{\\text{d}\\hat{y}^{(1)}}} = \\frac{\\text{d}}{\\text{d}\\hat{y}^{(1)}} \\begin{bmatrix} -(y^{(1)}\\log{}(\\hat{y}^{(1)})+(1-y^{(1)})\\log{}(1-\\hat{y}^{(1)})) \\end{bmatrix} $\n",
    "#### $ \\hspace{0.695cm} = - \\frac{y^{(1)}}{\\hat{y}^{(1)}} + \\frac{1-y^{(1)}}{1-\\hat{y}^{(1)}} $"
   ]
  },
  {
   "cell_type": "markdown",
   "metadata": {},
   "source": [
    "#### **(2) $ \\frac{\\text{d}l^{(1)}}{\\text{d}z^{[2](1)}} $** :\n",
    "#### $ \\underset{1\\times{}1}{\\frac{\\text{d}l^{(1)}}{\\text{d}z^{[2](1)}}} = \\frac{\\text{d}\\hat{y}^{(1)}}{\\text{d}z^{[2](1)}} \\cdot{} \\frac{\\text{d}l^{(1)}}{\\text{d}\\hat{y}^{(1)}} = \\frac{\\text{d}}{\\text{d}z^{[2](1)}}(\\frac{1}{1+e^{-z^{[2](1)}}}) \\cdot{} (- \\frac{y^{(1)}}{\\hat{y}^{(1)}} + \\frac{1-y^{(1)}}{1-\\hat{y}^{(1)}}) $ \n",
    "#### $ \\hspace{0.875cm} = \\hat{y}^{(1)} - y^{(1)} $"
   ]
  },
  {
   "cell_type": "markdown",
   "metadata": {},
   "source": [
    "#### **(3) $ \\frac{\\text{d}l^{(1)}}{\\text{d}W^{[2]}} $** :\n",
    "#### $ \\underset{1\\times{}k}{\\frac{\\text{d}l^{(1)}}{\\text{d}W^{[2]}}} = \\frac{\\text{d}l^{(1)}}{\\text{d}\\hat{y}^{(1)}} \\cdot{} \\frac{\\text{d}\\hat{y}^{(1)}}{\\text{d}z^{[2](1)}} \\cdot{} \\frac{\\text{d}z^{[2](1)}}{\\text{d}W^{[2]}} $\n",
    "#### $ \\hspace{0.725cm} = (\\hat{y}^{(1)} - y^{(1)}) \\cdot{} \\frac{\\text{d}z^{[2](1)}}{\\text{d}W^{[2]}} $\n",
    "#### $ \\hspace{0.725cm} = (\\hat{y}^{(1)} - y^{(1)}) \\cdot{} \\begin{bmatrix} \\frac{\\partial{}z^{[2](1)}}{\\partial{}w^{[2]}_{1}} & \\frac{\\partial{}z^{(2)}}{\\partial{}w^{[2]}_{2}} & \\cdots{} & \\frac{\\partial{}z^{(n)}}{\\partial{}w^{[2]}_{k}} \\end{bmatrix} $ \n",
    "#### $ \\hspace{0.725cm} = (\\hat{y}^{(1)} - y^{(1)}) \\cdot{} \\begin{bmatrix} a^{[1]}_{1} & a^{[1]}_{2} & \\cdots{} & a^{[1]}_{n} \\end{bmatrix} $\n",
    "#### $ \\hspace{0.725cm} = (\\hat{y}^{(1)} - y^{(1)}) \\cdot{} (\\underset{1\\times{}k}{\\textbf{a}^{[1]}})^{T} $"
   ]
  },
  {
   "cell_type": "markdown",
   "metadata": {},
   "source": [
    "#### **(4) $ \\frac{\\text{d}l^{(1)}}{\\text{d}b^{[2]}} $** :\n",
    "#### $ \\underset{1\\times{}1}{\\frac{\\text{d}l^{(1)}}{\\text{d}b^{[2]}}} = \\frac{\\text{d}l^{(1)}}{\\text{d}\\hat{y}^{(1)}} \\cdot{} \\frac{\\text{d}\\hat{y}^{(1)}}{\\text{d}z^{[2](1)}} \\cdot{} \\frac{\\text{d}z^{[2](1)}}{\\text{d}b^{[2]}} $\n",
    "#### $ \\hspace{0.575cm} = (\\hat{y}^{(1)} - y^{(1)}) \\cdot{} \\frac{\\text{d}z^{[2](1)}}{\\text{d}b^{[2]}} $\n",
    "#### $ \\hspace{0.575cm} = (\\hat{y}^{(1)} - y^{(1)}) \\cdot{} 1 $"
   ]
  },
  {
   "cell_type": "markdown",
   "metadata": {},
   "source": [
    "#### **(5) $ \\frac{\\text{d}l^{(1)}}{\\text{d}\\textbf{a}^{[1](1)}} $** :\n",
    "#### $ \\underset{1\\times{}k}{\\frac{\\text{d}l^{(1)}}{\\text{d}\\textbf{a}^{[1](1)}}} = \\frac{\\text{d}l^{(1)}}{\\text{d}\\hat{y}^{(1)}} \\cdot{} \\frac{\\text{d}\\hat{y}^{(1)}}{\\text{d}z^{[2](1)}} \\cdot{} \\frac{\\text{d}z^{[2](1)}}{\\text{d}\\textbf{a}^{[1](1)}} $\n",
    "#### $ \\hspace{0.875cm} = (\\hat{y}^{(1)} - y^{(1)}) \\cdot{} \\frac{\\text{d}z^{[2](1)}}{\\text{d}\\textbf{a}^{[1](1)}} $\n",
    "#### $ \\hspace{0.875cm} = (\\hat{y}^{(1)} - y^{(1)}) \\cdot{} \\begin{bmatrix} \\frac{\\partial{}z^{[2](1)}}{\\partial{}a^{[1](1)}_{1}} & \\frac{\\partial{}z^{[2](1)}}{\\partial{}a^{[1](1)}_{2}} & \\cdots{} & \\frac{\\partial{}z^{[2](1)}}{\\partial{}a^{[1](1)}_{k}} \\end{bmatrix} = (\\hat{y}^{(1)} - y^{(1)}) \\cdot{} \\begin{bmatrix} w^{[2]}_{1} & w^{[2]}_{2} & \\cdots{} & w^{[2]}_{k} \\end{bmatrix} $\n",
    "#### $ \\hspace{0.875cm} = (\\hat{y}^{(1)} - y^{(1)}) \\cdot{} \\underset{1\\times{}k}{W^{[2]}} $\n",
    "#### **(⚠️)** 딥러닝에서는 차원 일관성을 위해, $ \\, \\frac{\\text{d}z^{[2](1)}}{\\text{d}\\textbf{a}^{[1](1)}} $ 의 차원을 $ \\, k \\times{}1 $ 으로 전치 처리 **(⚠️)**\n",
    "#### $ \\underset{k\\times{}1}{\\frac{\\text{d}l^{(1)}}{\\text{d}\\textbf{a}^{[1](1)}}} \\approx{} \\frac{\\text{d}l^{(1)}}{\\text{d}\\hat{y}^{(1)}} \\cdot{} \\frac{\\text{d}\\hat{y}^{(1)}}{\\text{d}z^{[2](1)}} \\cdot{} (\\frac{\\text{d}z^{[2](1)}}{\\text{d}\\textbf{a}^{[1](1)}})^{T} $\n",
    "#### $ \\hspace{0.875cm} = (\\hat{y}^{(1)} - y^{(1)}) \\cdot{} \\underset{k\\times{}1}{(W^{[2]})^{T}} $"
   ]
  },
  {
   "cell_type": "markdown",
   "metadata": {},
   "source": [
    "#### **(6) $ \\frac{\\text{d}l^{(1)}}{\\text{d}\\textbf{z}^{[1](1)}} $** :\n",
    "#### $ \\underset{k\\times{}1}{\\frac{\\text{d}l^{(1)}}{\\text{d}\\textbf{z}^{[1](1)}}} = \\frac{\\text{d}l^{(1)}}{\\text{d}\\hat{y}^{(1)}} \\cdot{} \\frac{\\text{d}\\hat{y}^{(1)}}{\\text{d}z^{[2](1)}} \\cdot{} \\frac{\\text{d}z^{[2](1)}}{\\text{d}\\textbf{a}^{[1](1)}} \\cdot{} \\frac{\\text{d}\\textbf{a}^{[1](1)}}{\\text{d}\\textbf{z}^{[1](1)}} $\n",
    "#### $ \\hspace{0.875cm} \\approx{} \\frac{\\text{d}l^{(1)}}{\\text{d}\\hat{y}^{(1)}} \\cdot{} \\frac{\\text{d}\\hat{y}^{(1)}}{\\text{d}z^{[2](1)}} \\cdot{} (\\frac{\\text{d}z^{[2](1)}}{\\text{d}\\textbf{a}^{[1](1)}})^{T} \\cdot{} \\frac{\\text{d}\\textbf{a}^{[1](1)}}{\\text{d}\\textbf{z}^{[1](1)}} $\n",
    "#### $ \\hspace{0.875cm} = (\\hat{y}^{(1)} - y^{(1)}) \\cdot{} \\begin{bmatrix} w^{[2]}_{1} \\\\ w^{[2]}_{2} \\\\ \\cdots{} \\\\ w^{[2]}_{k} \\end{bmatrix} \\cdot{} \\frac{\\text{d}\\textbf{a}^{[1](1)}}{\\text{d}\\textbf{z}^{[1](1)}} $ \n",
    "#### $ \\hspace{0.875cm} = (\\hat{y}^{(1)} - y^{(1)}) \\cdot{} \\begin{bmatrix} w^{[2]}_{1} \\\\ w^{[2]}_{2} \\\\ \\cdots{} \\\\ w^{[2]}_{k} \\end{bmatrix} \\cdot{} \\begin{bmatrix} \\frac{\\partial{}\\textbf{a}^{[1](1)}}{\\partial{}z^{[1](1)}_{1}} \\\\ \\frac{\\partial{}\\textbf{a}^{[1](1)}}{\\partial{}z^{[1](1)}_{2}} \\\\ \\cdots{} \\\\ \\frac{\\partial{}\\textbf{a}^{[1](1)}}{\\partial{}z^{[1](1)}_{k}} \\end{bmatrix} $ \n",
    "#### $ \\hspace{0.875cm} = (\\hat{y}^{(1)} - y^{(1)}) \\cdot{} \\begin{bmatrix} w^{[2]}_{1} \\\\ w^{[2]}_{2} \\\\ \\cdots{} \\\\ w^{[2]}_{k} \\end{bmatrix} \\cdot{} \\begin{bmatrix} \\frac{\\partial{}a^{[1](1)}_{1}}{\\partial{}z^{[1](1)}_{1}} & \\frac{\\partial{}a^{[1](1)}_{2}}{\\partial{}z^{[1](1)}_{1}} & \\cdots{} & \\frac{\\partial{}a^{[1](1)}_{k}}{\\partial{}z^{[1](1)}_{1}} \\\\ \\frac{\\partial{}a^{[1](1)}_{1}}{\\partial{}z^{[1](1)}_{2}} & \\frac{\\partial{}a^{[1](1)}_{2}}{\\partial{}z^{[1](1)}_{2}} & \\cdots{} & \\frac{\\partial{}a^{[1](1)}_{k}}{\\partial{}z^{[1](1)}_{2}} \\\\ \\cdots{} & \\cdots{} & \\cdots{} & \\cdots{} \\\\ \\frac{\\partial{}a^{[1](1)}_{1}}{\\partial{}z^{[1](1)}_{k}} & \\frac{\\partial{}a^{[1](1)}_{2}}{\\partial{}z^{[1](1)}_{k}} & \\cdots{} & \\frac{\\partial{}a^{[1](1)}_{k}}{\\partial{}z^{[1](1)}_{k}} \\end{bmatrix} $ \n",
    "#### $ \\hspace{0.875cm} = (\\hat{y}^{(1)} - y^{(1)}) \\cdot{} \\begin{bmatrix} w^{[2]}_{1} \\\\ w^{[2]}_{2} \\\\ \\cdots{} \\\\ w^{[2]}_{k} \\end{bmatrix} \\cdot{} \\begin{bmatrix} g'(z^{[1](1)}_{1}) & 0 & \\cdots{} & 0 \\\\ 0 & g'(z^{[1](1)}_{1}) & \\cdots{} & 0 \\\\ \\cdots{} & \\cdots{} & \\cdots{} & \\cdots{} \\\\ 0 & 0 & \\cdots{} & g'(z^{[1](1)}_{k}) \\end{bmatrix} $ \n",
    "#### **(⚠️)** 딥러닝에서는 차원 일관성 및 메모리 효율화를 위해, $ \\, \\frac{\\text{d}\\textbf{a}^{[1](1)}}{\\text{d}\\textbf{z}^{[1](1)}} $ 의 차원을 $ \\, k \\times{}1 $ 으로 변환함 (확인필요) **(⚠️)**\n",
    "#### $ \\hspace{0.875cm} = (\\hat{y}^{(1)} - y^{(1)}) \\cdot{} \\begin{bmatrix} w^{[2]}_{1} \\\\ w^{[2]}_{2} \\\\ \\cdots{} \\\\ w^{[2]}_{k} \\end{bmatrix} \\odot{} \\begin{bmatrix} g'(z^{[1](1)}_{1}) \\\\ g'(z^{[1](1)}_{1}) \\\\ \\cdots{} \\\\ g'(z^{[1](1)}_{k}) \\end{bmatrix} $\n",
    "#### $ \\hspace{0.875cm} = (\\hat{y}^{(1)} - y^{(1)}) \\cdot{} \\begin{bmatrix} w^{[2]}_{1} g'(z^{[1](1)}_{1}) \\\\ w^{[2]}_{2} g'(z^{[1](1)}_{2}) \\\\ \\cdots{} \\\\ w^{[2]}_{k} g'(z^{[1](1)}_{k}) \\end{bmatrix} $ \n",
    "#### $ \\hspace{0.875cm} = (\\hat{y}^{(1)} - y^{(1)}) \\cdot{} \\underset{k\\times{}1}{(W^{[2]})^{T}} \\odot{} \\underset{k\\times{}1}{g'(\\textbf{z}^{[1](1)})} $ \n",
    "#### ※ $ \\, \\odot $ : elementrary-wise product"
   ]
  },
  {
   "cell_type": "markdown",
   "metadata": {},
   "source": [
    "#### **(7) $ \\frac{\\text{d}l^{(1)}}{\\text{d}W^{[1](1)}} $** :\n",
    "#### $ \\underset{k\\times{}n}{\\frac{\\text{d}l^{(1)}}{\\text{d}W^{[1](1)}}} = \\frac{\\text{d}l^{(1)}}{\\text{d}\\hat{y}^{(1)}} \\cdot{} \\frac{\\text{d}\\hat{y}^{(1)}}{\\text{d}z^{[2](1)}} \\cdot{} \\frac{\\text{d}z^{[2](1)}}{\\text{d}\\textbf{a}^{[1](1)}} \\cdot{} \\frac{\\text{d}\\textbf{a}^{[1](1)}}{\\text{d}\\textbf{z}^{[1](1)}} \\cdot{} \\frac{\\text{d}\\textbf{z}^{[1](1)}}{\\text{d}W^{[1]}} $\n",
    "#### $ \\hspace{1.025cm} = (\\hat{y}^{(1)} - y^{(1)}) \\cdot{} (W^{[2]})^{T} \\odot{} g'(\\textbf{z}^{[1](1)}) \\cdot{} \\frac{\\text{d}\\textbf{z}^{[1](1)}}{\\text{d}W^{[1]}} $\n",
    "#### $ \\hspace{1.025cm} = (\\hat{y}^{(1)} - y^{(1)}) \\cdot{} (W^{[2]})^{T} \\odot{} g'(\\textbf{z}^{[1](1)}) \\cdot{} $ **[LATEX]**\n",
    "#### **(⚠️)** 딥러닝에서는 차원 일관성 및 메모리 효율화를 위해, $ \\, \\begin{bmatrix} \\end{bmatrix} $ 의 차원을 $ \\, k \\times{}1 $ 으로 변환 **(⚠️)**\n",
    "#### $ \\hspace{1.025cm} = (\\hat{y}^{(1)} - y^{(1)}) \\cdot{} \\underbrace{(W^{[2]})^{T} \\odot{} g'(\\textbf{z}^{[1](1)})}_{k\\times{}1} \\cdot{} \\underset{1\\times{}n}{\\textbf({x}^{(1)})^{T}} $"
   ]
  },
  {
   "cell_type": "markdown",
   "metadata": {},
   "source": [
    "#### **(8) $ \\frac{\\text{d}l^{(1)}}{\\text{d}\\textbf{b}^{[1](1)}} $** :\n",
    "#### $ \\underset{k\\times{}1}{\\frac{\\text{d}l^{(1)}}{\\text{d}\\textbf{b}^{[1](1)}}} = \\frac{\\text{d}l^{(1)}}{\\text{d}\\hat{y}^{(1)}} \\cdot{} \\frac{\\text{d}\\hat{y}^{(1)}}{\\text{d}z^{[2](1)}} \\cdot{} \\frac{\\text{d}z^{[2](1)}}{\\text{d}\\textbf{a}^{[1](1)}} \\cdot{} \\frac{\\text{d}\\textbf{a}^{[1](1)}}{\\text{d}\\textbf{z}^{[1](1)}} \\cdot{} \\frac{\\text{d}\\textbf{z}^{[1](1)}}{\\text{d}\\textbf{b}^{[1]}} $ \n",
    "#### $ \\hspace{0.925cm} = (\\hat{y}^{(1)} - y^{(1)}) \\cdot{} \\underbrace{(W^{[2]})^{T} \\odot{} g'(\\textbf{z}^{[1](1)})}_{k\\times{}1} \\cdot{} $ **[LATEX]** \n",
    "#### $ \\hspace{0.925cm} = (\\hat{y}^{(1)} - y^{(1)}) \\cdot{} \\underbrace{(W^{[2]})^{T} \\odot{} g'(\\textbf{z}^{[1](1)})}_{k\\times{}1} \\cdot{} 1 $ "
   ]
  },
  {
   "cell_type": "markdown",
   "metadata": {},
   "source": [
    "<b></b>"
   ]
  },
  {
   "cell_type": "markdown",
   "metadata": {},
   "source": [
    "> ## **Optimization**"
   ]
  },
  {
   "cell_type": "markdown",
   "metadata": {},
   "source": [
    "#### **(1) Update $ \\, W^{[1]} $** :\n",
    "#### $ W^{[1]} = W^{[1]} - \\alpha{} \\cdot{} \\frac{\\text{d}l^{(1)}}{\\text{d}W^{[1]}} $\n",
    "#### ※ $ \\, \\alpha{} $ : learning rate"
   ]
  },
  {
   "cell_type": "markdown",
   "metadata": {},
   "source": [
    "#### **(2) Update $ \\, b^{[1]} $** :\n",
    "#### $ b^{[1]} = b^{[1]} - \\alpha{} \\cdot{} \\frac{\\text{d}l^{(1)}}{\\text{d}b^{[1]}} $"
   ]
  },
  {
   "cell_type": "markdown",
   "metadata": {},
   "source": [
    "#### **(1) Update $ \\, W^{[2]} $** :\n",
    "#### $ W^{[2]} = W^{[2]} - \\alpha{} \\cdot{} \\frac{\\text{d}l^{(1)}}{\\text{d}W^{[2]}} $"
   ]
  },
  {
   "cell_type": "markdown",
   "metadata": {},
   "source": [
    "#### **(2) Update $ \\, b^{[2]} $** :\n",
    "#### $ b^{[2]} = b^{[2]} - \\alpha{} \\cdot{} \\frac{\\text{d}l^{(1)}}{\\text{d}b^{[2]}} $"
   ]
  },
  {
   "cell_type": "markdown",
   "metadata": {},
   "source": [
    "<b></b>"
   ]
  }
 ],
 "metadata": {
  "kernelspec": {
   "display_name": "Python 3",
   "language": "python",
   "name": "python3"
  },
  "language_info": {
   "codemirror_mode": {
    "name": "ipython",
    "version": 3
   },
   "file_extension": ".py",
   "mimetype": "text/x-python",
   "name": "python",
   "nbconvert_exporter": "python",
   "pygments_lexer": "ipython3",
   "version": "3.8.12"
  },
  "orig_nbformat": 4
 },
 "nbformat": 4,
 "nbformat_minor": 2
}
