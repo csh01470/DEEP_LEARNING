{
 "cells": [
  {
   "attachments": {},
   "cell_type": "markdown",
   "metadata": {},
   "source": [
    "# CH01.2. **Shallow Neural Networks ($ \\, 1 \\, $ Sample)**"
   ]
  },
  {
   "cell_type": "markdown",
   "metadata": {},
   "source": [
    "> ## **Foward Propagatation**"
   ]
  },
  {
   "cell_type": "markdown",
   "metadata": {},
   "source": [
    "#### **[GRAPH]**"
   ]
  },
  {
   "cell_type": "markdown",
   "metadata": {},
   "source": [
    "#### **(1) Feature data** : `input`\n",
    "#### $ \\underset{n\\times{}1}{\\textbf{x}^{(1)}} = \\begin{bmatrix} x_{1,1} \\\\ x_{2,1} \\\\ \\vdots{} \\\\ x_{n,1} \\end{bmatrix} = \\begin{bmatrix} x^{(1)}_{1} \\\\ x^{(1)}_{2} \\\\ \\vdots{} \\\\ x^{(1)}_{n} \\end{bmatrix} $\n",
    "#### ※ $ \\, n $ : feature size"
   ]
  },
  {
   "cell_type": "markdown",
   "metadata": {},
   "source": [
    "#### **(2) Target data** : `input`\n",
    "#### $ \\underset{1\\times{}1}{y^{(1)}} = y_{1} $"
   ]
  },
  {
   "cell_type": "markdown",
   "metadata": {},
   "source": [
    "#### **(3) Weight of $ \\, 1 $-st Hidden Layer** : `parameter`\n",
    "#### $ \\underset{k\\times{}n}{W^{[1]}} = \\begin{bmatrix} w_{1,1}^{[1]} & w_{1,2}^{[1]} & \\cdots{} & w_{1,n}^{[1]} \\\\ w_{2,1}^{[1]} & w_{2,2}^{[1]} & \\cdots{} & w_{2,n}^{[1]} \\\\ \\vdots{} & \\vdots{} & \\ddots{} & \\vdots{} \\\\ w^{[1]}_{k,1} & w_{k,2}^{[1]} & \\cdots{} & w_{k,n}^{[1]} \\end{bmatrix} = \\begin{bmatrix} (\\textbf{w}^{[1]}_{1})^{T} \\\\ (\\textbf{w}^{[1]}_{2})^{T} \\\\ \\vdots{} \\\\ (\\textbf{w}^{[1]}_{k})^{T} \\end{bmatrix} $\n",
    "#### ※ $ \\, k $ : node size of $ \\, 1 $-st hidden layer"
   ]
  },
  {
   "cell_type": "markdown",
   "metadata": {},
   "source": [
    "#### **(4) Bias of $ \\, 1 $-st Hidden Layer** : `parameter`\n",
    "#### $ \\underset{k\\times{}1}{\\textbf{b}^{[1]}} = \\begin{bmatrix} b^{[1]}_{1} \\\\ b^{[1]}_{2} \\\\ \\vdots{} \\\\ b^{[1]}_{k} \\end{bmatrix} $"
   ]
  },
  {
   "cell_type": "markdown",
   "metadata": {},
   "source": [
    "#### **(5) Linear transformation of $ \\, 1 $-st Hidden Layer** :\n",
    "#### $ \\underset{k\\times{}1}{\\textbf{z}^{[1](1)}} = \\underset{k\\times{}n}{W^{[1]}}\\cdot{}\\underset{n\\times{}1}{\\textbf{x}^{(1)}} + \\underset{k\\times{}1}{\\textbf{b}^{[1]}} $\n",
    "#### $ \\hspace{0.85cm} = \\begin{bmatrix} (\\textbf{w}^{[1]}_{1})^{T} \\cdot{} \\textbf{x}^{(1)} \\\\ (\\textbf{w}^{[1]}_{2})^{T} \\cdot{} \\textbf{x}^{(1)} \\\\ \\vdots{} \\\\ (\\textbf{w}^{[1]}_{k})^{T} \\cdot{} \\textbf{x}^{(1)} \\end{bmatrix} + \\begin{bmatrix} b^{[1]}_{1} \\\\ b^{[1]}_{2} \\\\ \\vdots{} \\\\ b^{[1]}_{k} \\end{bmatrix} $\n",
    "#### $ \\hspace{0.85cm} = \\begin{bmatrix} w_{1,1}^{[1]} & w_{1,2}^{[1]} & \\cdots{} & w_{1,n}^{[1]} \\\\ w_{2,1}^{[1]} & w_{2,2}^{[1]} & \\cdots{} & w_{2,n}^{[1]} \\\\ \\vdots{} & \\vdots{} & \\ddots{} & \\vdots{} \\\\ w^{[1]}_{k,1} & w_{k,2}^{[1]} & \\vdots{} & w_{k,n}^{[1]} \\end{bmatrix} \\cdot{} \\begin{bmatrix} x^{(1)}_{1} \\\\ x^{(1)}_{2} \\\\ \\vdots{} \\\\ x^{(1)}_{n} \\end{bmatrix} + \\begin{bmatrix} b^{[1]}_{1} \\\\ b^{[1]}_{2} \\\\ \\vdots{} \\\\ b^{[1]}_{k} \\end{bmatrix} $\n",
    "#### $ \\hspace{0.85cm} = \\begin{bmatrix} \\sum{}^{n}_{i=1}(w^{[1]}_{1,i} \\cdot{} x^{(1)}_{i} + b^{[1]}_{1}) \\\\ \\sum{}^{n}_{i=1}(w^{[1]}_{2,i} \\cdot{} x^{(1)}_{i} + b^{[1]}_{2}) \\\\ \\vdots{} \\\\ \\sum{}^{n}_{i=1}(w^{[1]}_{k,i} \\cdot{} x^{(1)}_{i} + b^{[1]}_{k}) \\end{bmatrix} = \\begin{bmatrix} z^{[1](1)}_{1} \\\\ z^{[1](1)}_{2} \\\\ \\vdots{} \\\\ z^{[1](1)}_{k} \\end{bmatrix} $"
   ]
  },
  {
   "cell_type": "markdown",
   "metadata": {},
   "source": [
    "#### **(6) Activate Function of $ \\, 1 $-st Hidden Layer** :\n",
    "#### $ \\underset{k\\times{}1}{\\textbf{a}^{[1](1)}} = g(\\textbf{z}^{[1](1)}) $\n",
    "#### $ \\hspace{0.875cm} = \\begin{bmatrix} g(z^{[1](1)}_{1}) \\\\ g(z^{[1](1)}_{2}) \\\\ \\vdots{} \\\\ g(z^{[1](1)}_{k}) \\end{bmatrix} = \\begin{bmatrix} a^{[1](1)}_{1} \\\\ a^{[1](1)}_{2} \\\\ \\vdots{} \\\\ a^{[1](1)}_{k} \\end{bmatrix} $ "
   ]
  },
  {
   "cell_type": "markdown",
   "metadata": {},
   "source": [
    "#### **(7) Weight of Output Layer** : `parameter`\n",
    "#### $ \\underset{1\\times{}k}{W^{[2]}} = \\begin{bmatrix} w_{1}^{[2]} & w_{2}^{[2]} & \\cdots{} & w_{k}^{[2]} \\end{bmatrix} = \\begin{bmatrix} (\\textbf{w}^{[2]}_{1})^{T} \\end{bmatrix} $"
   ]
  },
  {
   "cell_type": "markdown",
   "metadata": {},
   "source": [
    "#### **(8) Bias of Output Layer** : `parameter`\n",
    "#### $ \\underset{1\\times{}1}{b^{[2]}} $"
   ]
  },
  {
   "cell_type": "markdown",
   "metadata": {},
   "source": [
    "#### **(9) Linear Transformation of Output Layer** :\n",
    "#### $ \\underset{1\\times{}1}{z^{[2](1)}} = \\underset{1\\times{}k}{W^{[2]}}\\cdot{}\\underset{k\\times{}1}{\\textbf{a}^{[1](1)}} + \\underset{1\\times{}1}{b^{[2]}} $\n",
    "#### $ \\hspace{0.875cm} = \\begin{bmatrix} w_{1}^{[2]} & w_{2}^{[2]} & \\cdots{} & w_{k}^{[2]} \\end{bmatrix} \\cdot{} \\begin{bmatrix} a^{[1](1)}_{1} \\\\ a^{[1](1)}_{2} \\\\ \\vdots{} \\\\ a^{[1](1)}_{k} \\end{bmatrix} + b^{[2]} $\n",
    "#### $ \\hspace{0.875cm} = w^{[2]}_{1} a^{[1](1)}_{1} + w^{[2]}_{2} a^{[1](1)}_{2} + \\cdots{} + w^{[2]}_{k} a^{[1](1)}_{k} + b^{[2]}  $\n",
    "#### $ \\hspace{0.875cm} = \\displaystyle\\sum^{k}_{i=1}w^{[2]}_{i} a^{[1](1)}_{i} + b^{[2]} $"
   ]
  },
  {
   "cell_type": "markdown",
   "metadata": {},
   "source": [
    "#### **(10) Estimate Target($ \\hat{\\text{y}} $)** : `output`\n",
    "#### $ \\underset{1\\times{}1}{\\hat{y}^{(1)}} = \\sigma{}(z^{[2](1)}) = \\frac{1}{1+e^{-z^{[2](1)}}} \\;\\; $ (sigmoid)"
   ]
  },
  {
   "cell_type": "markdown",
   "metadata": {},
   "source": [
    "#### **(11) Loss Function = Cost Function** :\n",
    "#### $ \\underset{1\\times{}1}{l^{(1)}} = \\ell{}(\\hat{y}^{(1)},\\, y^{(1)}) = -(y^{(1)} \\cdot{} \\log{}(\\hat{y}^{(1)})+(1-y^{(1)}) \\cdot{} \\log{}(1-\\hat{y}^{(1)})) \\;\\; $ (log-loss)"
   ]
  },
  {
   "cell_type": "markdown",
   "metadata": {},
   "source": [
    "<b></b>"
   ]
  },
  {
   "cell_type": "markdown",
   "metadata": {},
   "source": [
    "> ## **Back Propagation**"
   ]
  },
  {
   "cell_type": "markdown",
   "metadata": {},
   "source": [
    "#### **[GRAPH]**"
   ]
  },
  {
   "cell_type": "markdown",
   "metadata": {},
   "source": [
    "#### **(1) $ \\frac{\\partial{}l^{(1)}}{\\partial{}\\hat{y}^{(1)}} $** : \n",
    "#### $ \\underset{1\\times{}1}{\\frac{\\partial{}l^{(1)}}{\\partial{}\\hat{y}^{(1)}}} = \\frac{\\partial{}}{\\partial{}\\hat{y}^{(1)}} \\begin{bmatrix} -(y^{(1)} \\cdot{} \\log{}(\\hat{y}^{(1)})+(1-y^{(1)}) \\cdot{} \\log{}(1-\\hat{y}^{(1)})) \\end{bmatrix} $\n",
    "#### $ \\hspace{0.715cm} = - \\frac{y^{(1)}}{\\hat{y}^{(1)}} + \\frac{1-y^{(1)}}{1-\\hat{y}^{(1)}} $"
   ]
  },
  {
   "cell_type": "markdown",
   "metadata": {},
   "source": [
    "#### **(2) $ \\frac{\\partial{}l^{(1)}}{\\partial{}z^{[2](1)}} $** :\n",
    "#### $ \\underset{1\\times{}1}{\\frac{\\partial{}l^{(1)}}{\\partial{}z^{[2](1)}}} = \\frac{\\partial{}l^{(1)}}{\\partial{}\\hat{y}^{(1)}} \\cdot{} \\frac{\\partial{}\\hat{y}^{(1)}}{\\partial{}z^{[2](1)}} $ \n",
    "#### $ \\hspace{0.875cm} = (- \\frac{y^{(1)}}{\\hat{y}^{(1)}} + \\frac{1-y^{(1)}}{1-\\hat{y}^{(1)}}) \\cdot{} \\frac{\\partial{}}{\\partial{}z^{[2](1)}}(\\frac{1}{1+e^{-z^{[2](1)}}}) $\n",
    "#### $ \\hspace{0.875cm} = \\hat{y}^{(1)} - y^{(1)} $"
   ]
  },
  {
   "cell_type": "markdown",
   "metadata": {},
   "source": [
    "#### **(3) $ \\frac{\\partial{}l^{(1)}}{\\partial{}W^{[2]}} $** :\n",
    "#### $ \\underset{1\\times{}k}{\\frac{\\partial{}l^{(1)}}{\\partial{}W^{[2]}}} = \\frac{\\partial{}l^{(1)}}{\\partial{}\\hat{y}^{(1)}} \\cdot{} \\frac{\\partial{}\\hat{y}^{(1)}}{\\partial{}z^{[2](1)}} \\cdot{} \\frac{\\partial{}z^{[2](1)}}{\\partial{}W^{[2]}} $\n",
    "#### $ \\hspace{0.81175cm} = \\frac{\\partial{}l^{(1)}}{\\partial{}z^{[2](1)}} \\cdot{} \\frac{\\partial{}z^{[2](1)}}{\\partial{}W^{[2]}} $\n",
    "#### $ \\hspace{0.81175cm} = (\\hat{y}^{(1)} - y^{(1)}) \\cdot{} \\begin{bmatrix} \\frac{\\partial{}z^{[2](1)}}{\\partial{}w^{[2]}_{1}} & \\frac{\\partial{}z^{[2](1)}}{\\partial{}w^{[2]}_{2}} & \\cdots{} & \\frac{\\partial{}z^{[2](1)}}{\\partial{}w^{[2]}_{k}} \\end{bmatrix} $ \n",
    "#### $ \\hspace{0.81175cm} = (\\hat{y}^{(1)} - y^{(1)}) \\cdot{} \\begin{bmatrix} a^{[1](1)}_{1} & a^{[1](1)}_{2} & \\cdots{} & a^{[1](1)}_{k} \\end{bmatrix} $\n",
    "#### $ \\hspace{0.81175cm} = \\underset{1\\times{}k}{\\begin{bmatrix} (\\hat{y}^{(1)} - y^{(1)}) \\cdot{} a^{[1](1)}_{1} & (\\hat{y}^{(1)} - y^{(1)}) \\cdot{} a^{[1](1)}_{2} & \\cdots{} & (\\hat{y}^{(1)} - y^{(1)}) \\cdot{} a^{[1](1)}_{k} \\end{bmatrix}} $\n",
    "#### $ \\hspace{0.81175cm} = (\\hat{y}^{(1)} - y^{(1)}) \\cdot{} (\\textbf{a}^{[1](1)})^{T} $"
   ]
  },
  {
   "cell_type": "markdown",
   "metadata": {},
   "source": [
    "#### **(4) $ \\frac{\\partial{}l^{(1)}}{\\partial{}b^{[2]}} $** :\n",
    "#### $ \\underset{1\\times{}1}{\\frac{\\partial{}l^{(1)}}{\\partial{}b^{[2]}}} = \\frac{\\partial{}l^{(1)}}{\\partial{}\\hat{y}^{(1)}} \\cdot{} \\frac{\\partial{}\\hat{y}^{(1)}}{\\partial{}z^{[2](1)}} \\cdot{} \\frac{\\partial{}z^{[2](1)}}{\\partial{}b^{[2]}} $\n",
    "#### $ \\hspace{0.65cm} = \\frac{\\partial{}l^{(1)}}{\\partial{}z^{[2](1)}} \\cdot{} \\frac{\\partial{}z^{[2](1)}}{\\partial{}b^{[2]}} $\n",
    "#### $ \\hspace{0.65cm} = (\\hat{y}^{(1)} - y^{(1)}) \\cdot{} \\frac{\\partial{}(\\sum{}^{k}_{i=1}w^{[2]}_{i} a^{[1](1)}_{i} + b^{[2]})}{\\partial{}b^{[2]}} $\n",
    "#### $ \\hspace{0.65cm} = (\\hat{y}^{(1)} - y^{(1)}) \\cdot{} 1 $\n",
    "#### $ \\hspace{0.65cm} = \\hat{y}^{(1)} - y^{(1)} $"
   ]
  },
  {
   "cell_type": "markdown",
   "metadata": {},
   "source": [
    "#### **(5) $ \\frac{\\partial{}l^{(1)}}{\\partial{}\\textbf{a}^{[1](1)}} $** :\n",
    "#### $ \\underset{k\\times{}1}{\\frac{\\partial{}l^{(1)}}{\\partial{}\\textbf{a}^{[1](1)}}} = \\frac{\\partial{}l^{(1)}}{\\partial{}\\hat{y}^{(1)}} \\cdot{} \\frac{\\partial{}\\hat{y}^{(1)}}{\\partial{}z^{[2](1)}} \\cdot{} \\frac{\\partial{}z^{[2](1)}}{\\partial{}\\textbf{a}^{[1](1)}} $\n",
    "#### $ \\hspace{0.9175cm} = \\frac{\\partial{}l^{(1)}}{\\partial{}z^{[2](1)}} \\cdot{} \\frac{\\partial{}z^{[2](1)}}{\\partial{}\\textbf{a}^{[1](1)}} $\n",
    "#### $ \\hspace{0.9175cm} = (\\hat{y}^{(1)} - y^{(1)}) \\cdot{} \\begin{bmatrix} \\frac{\\partial{}z^{[2](1)}}{\\partial{}a^{[1](1)}_{1}} \\\\ \\frac{\\partial{}z^{[2](1)}}{\\partial{}a^{[1](1)}_{2}} \\\\ \\vdots{} \\\\ \\frac{\\partial{}z^{[2](1)}}{\\partial{}a^{[1](1)}_{k}} \\end{bmatrix} $ \n",
    "#### $ \\hspace{0.9175cm} = (\\hat{y}^{(1)} - y^{(1)}) \\cdot{} \\begin{bmatrix} w^{[2]}_{1} \\\\ w^{[2]}_{2} \\\\ \\vdots{} \\\\ w^{[2]}_{k} \\end{bmatrix} = \\underset{k\\times{}1}{\\begin{bmatrix} (\\hat{y}^{(1)} - y^{(1)}) \\cdot{} w^{[2]}_{1} \\\\ (\\hat{y}^{(1)} - y^{(1)}) \\cdot{} w^{[2]}_{2} \\\\ \\vdots{} \\\\ (\\hat{y}^{(1)} - y^{(1)}) \\cdot{} w^{[2]}_{k} \\end{bmatrix}} $\n",
    "#### $ \\hspace{0.9175cm} = (\\hat{y}^{(1)} - y^{(1)}) \\cdot{} (W^{[2]})^{T} $"
   ]
  },
  {
   "cell_type": "markdown",
   "metadata": {},
   "source": [
    "#### **(6) $ \\frac{\\partial{}l^{(1)}}{\\partial{}\\textbf{z}^{[1](1)}} $** :\n",
    "#### $ \\underset{k\\times{}1}{\\frac{\\partial{}l^{(1)}}{\\partial{}\\textbf{z}^{[1](1)}}} = \\frac{\\partial{}l^{(1)}}{\\partial{}\\hat{y}^{(1)}} \\cdot{} \\frac{\\partial{}\\hat{y}^{(1)}}{\\partial{}z^{[2](1)}} \\cdot{} \\frac{\\partial{}z^{[2](1)}}{\\partial{}\\textbf{a}^{[1](1)}} \\cdot{} \\frac{\\partial{}\\textbf{a}^{[1](1)}}{\\partial{}\\textbf{z}^{[1](1)}} $\n",
    "#### $ \\hspace{0.9cm} = \\frac{\\partial{}l^{(1)}}{\\partial{}\\textbf{a}^{[1](1)}} \\cdot{} \\frac{\\partial{}\\textbf{a}^{[1](1)}}{\\partial{}\\textbf{z}^{[1](1)}} $ \n",
    "#### $ \\hspace{0.9cm} = \\begin{bmatrix} (\\hat{y}^{(1)} - y^{(1)}) \\cdot{} w^{[2]}_{1} \\\\ (\\hat{y}^{(1)} - y^{(1)}) \\cdot{} w^{[2]}_{2} \\\\ \\vdots{} \\\\ (\\hat{y}^{(1)} - y^{(1)}) \\cdot{} w^{[2]}_{k} \\end{bmatrix} \\cdot{} \\begin{bmatrix} \\frac{\\partial{}a^{[1](1)}_{1}}{\\partial{}\\textbf{z}^{[1](1)}} \\\\ \\frac{\\partial{}a^{[1](1)}_{2}}{\\partial{}\\textbf{z}^{[1](1)}} \\\\ \\vdots{} \\\\ \\frac{\\partial{}a^{[1](1)}_{k}}{\\partial{}\\textbf{z}^{[1](1)}} \\end{bmatrix} $ \n",
    "#### $ \\hspace{0.9cm} = \\begin{bmatrix} (\\hat{y}^{(1)} - y^{(1)}) \\cdot{} w^{[2]}_{1} \\\\ (\\hat{y}^{(1)} - y^{(1)}) \\cdot{} w^{[2]}_{2} \\\\ \\vdots{} \\\\ (\\hat{y}^{(1)} - y^{(1)}) \\cdot{} w^{[2]}_{k} \\end{bmatrix} \\cdot{} \\begin{bmatrix} \\frac{\\partial{}a^{[1](1)}_{1}}{\\partial{}z^{[1](1)}_{1}} & \\frac{\\partial{}a^{[1](1)}_{1}}{\\partial{}z^{[1](1)}_{2}} & \\cdots{} & \\frac{\\partial{}a^{[1](1)}_{1}}{\\partial{}z^{[1](1)}_{k}} \\\\ \\frac{\\partial{}a^{[1](1)}_{2}}{\\partial{}z^{[1](1)}_{1}} & \\frac{\\partial{}a^{[1](1)}_{2}}{\\partial{}z^{[1](1)}_{2}} & \\cdots{} & \\frac{\\partial{}a^{[1](1)}_{2}}{\\partial{}z^{[1](1)}_{k}} \\\\ \\vdots{} & \\vdots{} & \\ddots{} & \\vdots{} \\\\ \\frac{\\partial{}a^{[1](1)}_{k}}{\\partial{}z^{[1](1)}_{1}} & \\frac{\\partial{}a^{[1](1)}_{k}}{\\partial{}z^{[1](1)}_{2}} & \\cdots{} & \\frac{\\partial{}a^{[1](1)}_{k}}{\\partial{}z^{[1](1)}_{k}} \\end{bmatrix} $\n",
    "#### $ \\hspace{0.9cm} = \\begin{bmatrix} (\\hat{y}^{(1)} - y^{(1)}) \\cdot{} w^{[2]}_{1} \\\\ (\\hat{y}^{(1)} - y^{(1)}) \\cdot{} w^{[2]}_{2} \\\\ \\vdots{} \\\\ (\\hat{y}^{(1)} - y^{(1)}) \\cdot{} w^{[2]}_{k} \\end{bmatrix} \\cdot{} \\begin{bmatrix} g'(z^{[1](1)}_{1}) & 0 & \\cdots{} & 0 \\\\ 0 & g'(z^{[1](1)}_{2}) & \\cdots{} & 0 \\\\ \\cdots{} & \\cdots{} & \\cdots{} & \\cdots{} \\\\ 0 & 0 & \\cdots{} & g'(z^{[1](1)}_{k}) \\end{bmatrix} $ \n",
    "#### **(⚠️)** 메모리 효율성을 위해 대각 자코비안 행렬을 입력 벡터의 차원($k\\times{}1$)으로 축소 **(⚠️)**\n",
    "#### $ \\hspace{0.9cm} \\coloneqq{} \\begin{bmatrix} (\\hat{y}^{(1)} - y^{(1)}) \\cdot{} w^{[2]}_{1} \\\\ (\\hat{y}^{(1)} - y^{(1)}) \\cdot{} w^{[2]}_{2} \\\\ \\vdots{} \\\\ (\\hat{y}^{(1)} - y^{(1)}) \\cdot{} w^{[2]}_{k} \\end{bmatrix} \\cdot{} \\begin{bmatrix} g'(z^{[1](1)}_{1}) \\\\ g'(z^{[1](1)}_{2}) \\\\ \\vdots{} \\\\ g'(z^{[1](1)}_{k}) \\end{bmatrix} $\n",
    "#### **(⚠️)** 차원 유지를 위해 요소별곱(element-wise product;$ \\, \\odot{} $) 계산 **(⚠️)**\n",
    "#### $ \\hspace{0.9cm} \\coloneqq{} \\begin{bmatrix} (\\hat{y}^{(1)} - y^{(1)}) \\cdot{} w^{[2]}_{1} \\\\ (\\hat{y}^{(1)} - y^{(1)}) \\cdot{} w^{[2]}_{2} \\\\ \\vdots{} \\\\ (\\hat{y}^{(1)} - y^{(1)}) \\cdot{} w^{[2]}_{k} \\end{bmatrix} \\odot{} \\begin{bmatrix} g'(z^{[1](1)}_{1}) \\\\ g'(z^{[1](1)}_{2}) \\\\ \\vdots{} \\\\ g'(z^{[1](1)}_{k}) \\end{bmatrix} $\n",
    "#### $ \\hspace{0.9cm} = \\underset{k\\times{}1}{\\begin{bmatrix} (\\hat{y}^{(1)} - y^{(1)}) \\cdot{} w^{[2]}_{1} \\cdot{} g'(z^{[1](1)}_{1}) \\\\ (\\hat{y}^{(1)} - y^{(1)}) \\cdot{} w^{[2]}_{2} \\cdot{} g'(z^{[1](1)}_{2}) \\\\ \\vdots{} \\\\ (\\hat{y}^{(1)} - y^{(1)}) \\cdot{} w^{[2]}_{k} \\cdot{} g'(z^{[1](1)}_{k}) \\end{bmatrix}} $ \n",
    "#### $ \\hspace{0.9cm} = (\\hat{y}^{(1)} - y^{(1)}) \\cdot{} (W^{[2]})^{T} \\odot{} g'(\\textbf{z}^{[1](1)}) $ "
   ]
  },
  {
   "cell_type": "markdown",
   "metadata": {},
   "source": [
    "#### **(7) $ \\frac{\\partial{}l^{(1)}}{\\partial{}W^{[1]}} $** :\n",
    "#### $ \\underset{k\\times{}n}{\\frac{\\partial{}l^{(1)}}{\\partial{}W^{[1]}}} = \\frac{\\partial{}l^{(1)}}{\\partial{}\\hat{y}^{(1)}} \\cdot{} \\frac{\\partial{}\\hat{y}^{(1)}}{\\partial{}z^{[2](1)}} \\cdot{} \\frac{\\partial{}z^{[2](1)}}{\\partial{}\\textbf{a}^{[1](1)}} \\cdot{} \\frac{\\partial{}\\textbf{a}^{[1](1)}}{\\partial{}\\textbf{z}^{[1](1)}} \\cdot{} \\frac{\\partial{}\\textbf{z}^{[1](1)}}{\\partial{}W^{[1]}} $\n",
    "#### $ \\hspace{0.815cm} = \\frac{\\partial{}l^{(1)}}{\\partial{}\\textbf{z}^{[1](1)}} \\cdot{} \\frac{\\partial{}\\textbf{z}^{[1](1)}}{\\partial{}W^{[1]}} $\n",
    "#### $ \\hspace{0.815cm} = \\begin{bmatrix} (\\hat{y}^{(1)} - y^{(1)}) \\cdot{} w^{[2]}_{1} \\cdot{} g'(z^{[1](1)}_{1}) \\\\ (\\hat{y}^{(1)} - y^{(1)}) \\cdot{} w^{[2]}_{2} \\cdot{} g'(z^{[1](1)}_{2}) \\\\ \\vdots{} \\\\ (\\hat{y}^{(1)} - y^{(1)}) \\cdot{} w^{[2]}_{k} \\cdot{} g'(z^{[1](1)}_{k}) \\end{bmatrix} \\cdot{} \\underset{k\\times{}k\\times{}n}{\\begin{bmatrix} \\frac{\\partial{}z^{[1](1)}_{1}}{\\partial{}W^{[1]}} \\\\ \\frac{\\partial{}z^{[1](1)}_{2}}{\\partial{}W^{[1]}} \\\\ \\vdots{} \\\\ \\frac{\\partial{}z^{[1](1)}_{k}}{\\partial{}W^{[1]}} \\end{bmatrix}} $\n",
    "#### **(⚠️)** 메모리 효율성을 위해 대각 자코비안 $ \\, 3 $ 차원 텐서를 행렬로 축소 **(⚠️)**\n",
    "#### $ \\hspace{0.815cm} \\coloneqq{} \\begin{bmatrix} (\\hat{y}^{(1)} - y^{(1)}) \\cdot{} w^{[2]}_{1} \\cdot{} g'(z^{[1](1)}_{1}) \\\\ (\\hat{y}^{(1)} - y^{(1)}) \\cdot{} w^{[2]}_{2} \\cdot{} g'(z^{[1](1)}_{2}) \\\\ \\vdots{} \\\\ (\\hat{y}^{(1)} - y^{(1)}) \\cdot{} w^{[2]}_{k} \\cdot{} g'(z^{[1](1)}_{k}) \\end{bmatrix} \\cdot{} \\begin{bmatrix} \\frac{\\partial{}z_{1}^{[1](1)}}{\\partial{}w_{1,1}^{[1]}} & \\frac{\\partial{}z_{1}^{[1](1)}}{\\partial{}w_{1,2}^{[1]}} & \\cdots & \\frac{\\partial{}z_{1}^{[1](1)}}{\\partial{}w_{1,n}^{[1]}} \\\\ \\frac{\\partial{}z_{2}^{[1](1)}}{\\partial{}w_{2,1}^{[1]}} & \\frac{\\partial{}z_{2}^{[1](1)}}{\\partial{}w_{2,2}^{[1]}} & \\cdots & \\frac{\\partial{}z_{2}^{[1](1)}}{\\partial{}w_{2,n}^{[1]}} \\\\ \\vdots{} & \\vdots{} & \\ddots{} & \\vdots{} \\\\ \\frac{\\partial{}z_{k}^{[1](1)}}{\\partial{}w_{k,1}^{[1]}} & \\frac{\\partial{}z_{k}^{[1](1)}}{\\partial{}w_{k,2}^{[1]}} & \\cdots & \\frac{\\partial{}z_{k}^{[1](1)}}{\\partial{}w_{k,n}^{[1]}} \\end{bmatrix} $\n",
    "#### $ \\hspace{0.815cm} = \\begin{bmatrix} (\\hat{y}^{(1)} - y^{(1)}) \\cdot{} w^{[2]}_{1} \\cdot{} g'(z^{[1](1)}_{1}) \\\\ (\\hat{y}^{(1)} - y^{(1)}) \\cdot{} w^{[2]}_{2} \\cdot{} g'(z^{[1](1)}_{2}) \\\\ \\vdots{} \\\\ (\\hat{y}^{(1)} - y^{(1)}) \\cdot{} w^{[2]}_{k} \\cdot{} g'(z^{[1](1)}_{k}) \\end{bmatrix} \\cdot{} \\underset{k\\times{}n}{\\begin{bmatrix} x^{(1)}_{1} & x^{(1)}_{2} & \\cdots{} & x^{(1)}_{n} \\\\ x^{(1)}_{1} & x^{(1)}_{2} & \\cdots{} & x^{(1)}_{n} \\\\ \\vdots{} & \\vdots{} & \\ddots{} & \\vdots{} \\\\ x^{(1)}_{1} & x^{(1)}_{2} & \\cdots{} & x^{(1)}_{n} \\end{bmatrix}} $\n",
    "#### **(⚠️)** 메모리 효율성을 위해 반복 행렬을 축소 **(⚠️)**\n",
    "#### $ \\hspace{0.815cm} \\coloneqq{} \\underset{k\\times{}1}{\\begin{bmatrix} (\\hat{y}^{(1)} - y^{(1)}) \\cdot{} w^{[2]}_{1} \\cdot{} g'(z^{[1](1)}_{1}) \\\\ (\\hat{y}^{(1)} - y^{(1)}) \\cdot{} w^{[2]}_{2} \\cdot{} g'(z^{[1](1)}_{2}) \\\\ \\vdots{} \\\\ (\\hat{y}^{(1)} - y^{(1)}) \\cdot{} w^{[2]}_{k} \\cdot{} g'(z^{[1](1)}_{k}) \\end{bmatrix}} \\cdot{} \\underset{1\\times{}n}{\\begin{bmatrix} x^{(1)}_{1} & x^{(1)}_{2} & \\cdots{} & x^{(1)}_{n} \\end{bmatrix}} $\n",
    "##### $ \\hspace{0.815cm} = \\underset{k\\times{}n}{\\begin{bmatrix} (\\hat{y}^{(1)} - y^{(1)}) \\cdot{} w^{[2]}_{1} \\cdot{}  g'(z^{[1](1)}_{1}) \\cdot{} x^{(1)}_{1} & (\\hat{y}^{(1)} - y^{(1)}) \\cdot{} w^{[2]}_{1} \\cdot{}  g'(z^{[1](1)}_{1}) \\cdot{} x^{(1)}_{2} & \\cdots{} & (\\hat{y}^{(1)} - y^{(1)}) \\cdot{} w^{[2]}_{1} \\cdot{}  g'(z^{[1](1)}_{1}) \\cdot{} x^{(1)}_{n} \\\\ (\\hat{y}^{(1)} - y^{(1)}) \\cdot{} w^{[2]}_{2} \\cdot{}  g'(z^{[1](1)}_{2}) \\cdot{} x^{(1)}_{1} & (\\hat{y}^{(1)} - y^{(1)}) \\cdot{} w^{[2]}_{2} \\cdot{}  g'(z^{[1](1)}_{2}) \\cdot{} x^{(1)}_{2} & \\cdots{} & (\\hat{y}^{(1)} - y^{(1)}) \\cdot{} w^{[2]}_{2} \\cdot{}  g'(z^{[1](1)}_{2}) \\cdot{} x^{(1)}_{n} \\\\ \\vdots{} & \\vdots{} & \\ddots{} & \\vdots{}  \\\\ (\\hat{y}^{(1)} - y^{(1)}) \\cdot{} w^{[2]}_{k} \\cdot{}  g'(z^{[1](1)}_{k}) \\cdot{} x^{(1)}_{1} & (\\hat{y}^{(1)} - y^{(1)}) \\cdot{} w^{[2]}_{k} \\cdot{}  g'(z^{[1](1)}_{k}) \\cdot{} x^{(1)}_{2} & \\cdots{} & (\\hat{y}^{(1)} - y^{(1)}) \\cdot{} w^{[2]}_{k} \\cdot{}  g'(z^{[1](1)}_{k}) \\cdot{} x^{(1)}_{n} \\end{bmatrix}} $\n",
    "#### $ \\hspace{0.815cm} = (\\hat{y}^{(1)} - y^{(1)}) \\cdot{} (W^{[2]})^{T} \\odot{} g'(\\textbf{z}^{[1](1)}) \\cdot{} \\textbf({x}^{(1)})^{T} $"
   ]
  },
  {
   "cell_type": "markdown",
   "metadata": {},
   "source": [
    "#### **(8) $ \\frac{\\partial{}l^{(1)}}{\\partial{}\\textbf{b}^{[1]}} $** :\n",
    "#### $ \\underset{k\\times{}1}{\\frac{\\partial{}l^{(1)}}{\\partial{}\\textbf{b}^{[1]}}} = \\frac{\\partial{}l^{(1)}}{\\partial{}\\hat{y}^{(1)}} \\cdot{} \\frac{\\partial{}\\hat{y}^{(1)}}{\\partial{}z^{[2](1)}} \\cdot{} \\frac{\\partial{}z^{[2](1)}}{\\partial{}\\textbf{a}^{[1](1)}} \\cdot{} \\frac{\\partial{}\\textbf{a}^{[1](1)}}{\\partial{}\\textbf{z}^{[1](1)}} \\cdot{} \\frac{\\partial{}\\textbf{z}^{[1](1)}}{\\partial{}\\textbf{b}^{[1]}} $ \n",
    "#### $ \\hspace{0.6975cm} = \\frac{\\partial{}l^{(1)}}{\\partial{}\\textbf{z}^{[1](1)}} \\cdot{} \\frac{\\partial{}\\textbf{z}^{[1](1)}}{\\partial{}\\textbf{b}^{[1]}} $\n",
    "#### $ \\hspace{0.6975cm} = \\begin{bmatrix} (\\hat{y}^{(1)} - y^{(1)}) \\cdot{} w^{[2]}_{1} \\cdot{} g'(z^{[1](1)}_{1}) \\\\ (\\hat{y}^{(1)} - y^{(1)}) \\cdot{} w^{[2]}_{2} \\cdot{} g'(z^{[1](1)}_{2}) \\\\ \\vdots{} \\\\ (\\hat{y}^{(1)} - y^{(1)}) \\cdot{} w^{[2]}_{k} \\cdot{} g'(z^{[1](1)}_{k}) \\end{bmatrix} \\cdot{} \\begin{bmatrix} \\frac{\\partial{}z^{[1](1)}_{1}}{\\partial{}\\textbf{b}^{[1]}} \\\\ \\frac{\\partial{}z^{[1](1)}_{2}}{\\partial{}\\textbf{b}^{[1]}} \\\\ \\vdots{} \\\\ \\frac{\\partial{}z^{[1](1)}_{k}}{\\partial{}\\textbf{b}^{[1]}} \\end{bmatrix} $\n",
    "#### $ \\hspace{0.6975cm} = \\begin{bmatrix} (\\hat{y}^{(1)} - y^{(1)}) \\cdot{} w^{[2]}_{1} \\cdot{} g'(z^{[1](1)}_{1}) \\\\ (\\hat{y}^{(1)} - y^{(1)}) \\cdot{} w^{[2]}_{2} \\cdot{} g'(z^{[1](1)}_{2}) \\\\ \\vdots{} \\\\ (\\hat{y}^{(1)} - y^{(1)}) \\cdot{} w^{[2]}_{k} \\cdot{} g'(z^{[1](1)}_{k}) \\end{bmatrix} \\cdot{} \\begin{bmatrix} \\frac{\\partial{} z^{[1]}_{1}}{\\partial{} b^{[1]}_{1}} & \\frac{\\partial{} z^{[1]}_{1}}{\\partial{} b^{[1]}_{2}} & \\cdots & \\frac{\\partial{} z^{[1]}_{1}}{\\partial{} b^{[1]}_{k}} \\\\ \\frac{\\partial{} z^{[1]}_{2}}{\\partial{} b^{[1]}_{1}} & \\frac{\\partial{} z^{[1]}_{2}}{\\partial{} b^{[1]}_{2}} & \\cdots & \\frac{\\partial{} z^{[1]}_{2}}{\\partial{} b^{[1]}_{k}} \\\\ \\vdots{} & \\vdots{} & \\ddots{} & \\vdots{} \\\\ \\frac{\\partial{} z^{[1]}_{k}}{\\partial{} b^{[1]}_{1}} & \\frac{\\partial{} z^{[1]}_{k}}{\\partial{} b^{[1]}_{2}} & \\cdots & \\frac{\\partial{} z^{[1]}_{k}}{\\partial{} b^{[1]}_{k}} \\end{bmatrix} $\n",
    "#### $ \\hspace{0.6975cm} = \\begin{bmatrix} (\\hat{y}^{(1)} - y^{(1)}) \\cdot{} w^{[2]}_{1} \\cdot{} g'(z^{[1](1)}_{1}) \\\\ (\\hat{y}^{(1)} - y^{(1)}) \\cdot{} w^{[2]}_{2} \\cdot{} g'(z^{[1](1)}_{2}) \\\\ \\vdots{} \\\\ (\\hat{y}^{(1)} - y^{(1)}) \\cdot{} w^{[2]}_{k} \\cdot{} g'(z^{[1](1)}_{k}) \\end{bmatrix} \\cdot{} \\underset{k\\times{}k}{\\begin{bmatrix} 1 & 0 & \\cdots & 0 \\\\ 0 & 1 & \\cdots & 0 \\\\ \\vdots{} & \\vdots{} & \\ddots{} & \\vdots{} \\\\ 0 & 0 & \\cdots & 1 \\end{bmatrix}} $\n",
    "#### **(⚠️)** 메모리 효율성을 위해 대각 자코비안 행렬을 입력 벡터의 차원($k\\times{}1$)으로 축소 **(⚠️)**\n",
    "#### $ \\hspace{0.6975cm} \\coloneqq{} \\begin{bmatrix} (\\hat{y}^{(1)} - y^{(1)}) \\cdot{} w^{[2]}_{1} \\cdot{} g'(z^{[1](1)}_{1}) \\\\ (\\hat{y}^{(1)} - y^{(1)}) \\cdot{} w^{[2]}_{2} \\cdot{} g'(z^{[1](1)}_{2}) \\\\ \\vdots{} \\\\ (\\hat{y}^{(1)} - y^{(1)}) \\cdot{} w^{[2]}_{k} \\cdot{} g'(z^{[1](1)}_{k}) \\end{bmatrix} \\cdot{} \\underset{k\\times{}1}{\\begin{bmatrix} 1 \\\\ 1 \\\\ \\vdots{} \\\\ 1 \\end{bmatrix}} $\n",
    "#### **(⚠️)** 차원 유지를 위해 요소별곱(element-wise product;$ \\, \\odot{} $) 계산 **(⚠️)**\n",
    "#### $ \\hspace{0.6975cm} \\coloneqq{} \\underset{k\\times{}1}{\\begin{bmatrix} (\\hat{y}^{(1)} - y^{(1)}) \\cdot{} w^{[2]}_{1} \\cdot{} g'(z^{[1](1)}_{1}) \\\\ (\\hat{y}^{(1)} - y^{(1)}) \\cdot{} w^{[2]}_{2} \\cdot{} g'(z^{[1](1)}_{2}) \\\\ \\vdots{} \\\\ (\\hat{y}^{(1)} - y^{(1)}) \\cdot{} w^{[2]}_{k} \\cdot{} g'(z^{[1](1)}_{k}) \\end{bmatrix}} \\odot{} \\underset{k\\times{}1}{\\begin{bmatrix} 1 \\\\ 1 \\\\ \\vdots{} \\\\ 1 \\end{bmatrix}} $ \n",
    "#### $ \\hspace{0.6975cm} = \\underset{k\\times{}1}{\\begin{bmatrix} (\\hat{y}^{(1)} - y^{(1)}) \\cdot{} w^{[2]}_{1} \\cdot{} g'(z^{[1](1)}_{1}) \\\\ (\\hat{y}^{(1)} - y^{(1)}) \\cdot{} w^{[2]}_{2} \\cdot{} g'(z^{[1](1)}_{2}) \\\\ \\vdots{} \\\\ (\\hat{y}^{(1)} - y^{(1)}) \\cdot{} w^{[2]}_{k} \\cdot{} g'(z^{[1](1)}_{k}) \\end{bmatrix}} $ \n",
    "#### $ \\hspace{0.6975cm} = (\\hat{y}^{(1)} - y^{(1)}) \\cdot{} (W^{[2]})^{T} \\odot{} g'(\\textbf{z}^{[1](1)}) $"
   ]
  },
  {
   "cell_type": "markdown",
   "metadata": {},
   "source": [
    "<b></b>"
   ]
  },
  {
   "cell_type": "markdown",
   "metadata": {},
   "source": [
    "> ## **Optimization**"
   ]
  },
  {
   "cell_type": "markdown",
   "metadata": {},
   "source": [
    "#### **(1) Update $ \\, W^{[1]} $** :\n",
    "#### $ W^{[1]} = W^{[1]} - \\alpha{} \\cdot{} \\frac{\\partial{}l^{(1)}}{\\partial{}W^{[1]}} $\n",
    "#### ※ $ \\, \\alpha{} $ : learning rate"
   ]
  },
  {
   "cell_type": "markdown",
   "metadata": {},
   "source": [
    "#### **(2) Update $ \\, b^{[1]} $** :\n",
    "#### $ b^{[1]} = b^{[1]} - \\alpha{} \\cdot{} \\frac{\\partial{}l^{(1)}}{\\partial{}b^{[1]}} $"
   ]
  },
  {
   "cell_type": "markdown",
   "metadata": {},
   "source": [
    "#### **(3) Update $ \\, W^{[2]} $** :\n",
    "#### $ W^{[2]} = W^{[2]} - \\alpha{} \\cdot{} \\frac{\\partial{}l^{(1)}}{\\partial{}W^{[2]}} $"
   ]
  },
  {
   "cell_type": "markdown",
   "metadata": {},
   "source": [
    "#### **(4) Update $ \\, b^{[2]} $** :\n",
    "#### $ b^{[2]} = b^{[2]} - \\alpha{} \\cdot{} \\frac{\\partial{}l^{(1)}}{\\partial{}b^{[2]}} $"
   ]
  }
 ],
 "metadata": {
  "kernelspec": {
   "display_name": "Python 3",
   "language": "python",
   "name": "python3"
  },
  "language_info": {
   "codemirror_mode": {
    "name": "ipython",
    "version": 3
   },
   "file_extension": ".py",
   "mimetype": "text/x-python",
   "name": "python",
   "nbconvert_exporter": "python",
   "pygments_lexer": "ipython3",
   "version": "3.8.12"
  },
  "orig_nbformat": 4
 },
 "nbformat": 4,
 "nbformat_minor": 2
}
