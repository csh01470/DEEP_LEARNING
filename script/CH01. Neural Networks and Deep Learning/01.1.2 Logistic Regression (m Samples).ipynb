{
 "cells": [
  {
   "attachments": {},
   "cell_type": "markdown",
   "metadata": {},
   "source": [
    "# CH01.1. **Logistic Regression ($ \\, m \\, $ Samples)**"
   ]
  },
  {
   "cell_type": "markdown",
   "metadata": {},
   "source": [
    "> ## **Foward Propagatation**"
   ]
  },
  {
   "cell_type": "markdown",
   "metadata": {},
   "source": [
    "#### **[GRAPH]**"
   ]
  },
  {
   "cell_type": "markdown",
   "metadata": {},
   "source": [
    "#### **(1) Feature data** : `input`\n",
    "#### $ \\underset{n\\times{}m}{X} = \\begin{bmatrix} x_{1,1} & x_{1,2} & \\cdots{} & x_{1,m} \\\\ x_{2,1} & x_{2,2} & \\cdots{} & x_{2,m} \\\\ \\vdots{} & \\vdots{} & \\ddots{} & \\vdots{} \\\\ x_{n,1} & x_{n,2} & \\cdots{} & x_{n,m} \\end{bmatrix} = \\begin{bmatrix} x^{(1)}_{1} & x^{(2)}_{1} & \\cdots{} & x^{(m)}_{1} \\\\ x^{(1)}_{2} & x^{(2)}_{2} & \\cdots{} & x^{(m)}_{2} \\\\ \\vdots{} & \\vdots{} & \\ddots{} & \\vdots{} \\\\ x^{(1)}_{n} & x^{(2)}_{n} & \\cdots{} & x^{(m)}_{n} \\end{bmatrix} = \\begin{bmatrix} \\textbf{x}^{(1)}&\\textbf{x}^{(2)}&\\cdots{}&\\textbf{x}^{(m)}\\end{bmatrix} $\n",
    "#### ※ $ \\, n $ : feature size, $ \\, m $ : record size"
   ]
  },
  {
   "cell_type": "markdown",
   "metadata": {},
   "source": [
    "#### **(2) Target data** : `input`\n",
    "#### $ \\underset{1\\times{}m}{\\textbf{y}} = \\begin{bmatrix} y_{1}&y_{2}&\\cdots{}&y_{m} \\end{bmatrix} = \\begin{bmatrix} y^{(1)}&y^{(2)}&\\cdots{}&y^{(m)} \\end{bmatrix} $"
   ]
  },
  {
   "cell_type": "markdown",
   "metadata": {},
   "source": [
    "#### **(3) Weight** : `parameter`\n",
    "#### $ \\underset{n\\times{}1}{\\textbf{w}} = \\begin{bmatrix} w_{1} \\\\ w_{2} \\\\ \\vdots{} \\\\ w_{n} \\end{bmatrix},\\;\\; \\underset{1\\times{}n}{\\textbf{w}^{T}} = \\begin{bmatrix} w_{1} & w_{2} & \\cdots{} & w_{n} \\end{bmatrix} $"
   ]
  },
  {
   "cell_type": "markdown",
   "metadata": {},
   "source": [
    "#### **(4) Bias** : `parameter`\n",
    "#### $ \\underset{1\\times{}m}{\\textbf{b}} = \\begin{bmatrix} b_{1} & b_{2} & \\cdots{} & b_{m} \\end{bmatrix} \\;\\; $ where $ \\, b_{1} = b_{2} = \\cdots{} = b_{m} $"
   ]
  },
  {
   "cell_type": "markdown",
   "metadata": {},
   "source": [
    "#### **(PLUS)** 실제 Python에서는 Broad-casting을 이용하기 때문에 $ \\, \\textbf{b} \\, $ 를 벡터가 아닌 스칼라로 정의함"
   ]
  },
  {
   "cell_type": "markdown",
   "metadata": {},
   "source": [
    "#### **(5) Linear transformation** :\n",
    "#### $ \\underset{1\\times{}m}{\\textbf{z}} = \\underset{1\\times{}n}{\\textbf{w}^{T}}\\cdot{}\\underset{n\\times{}m}{X} + \\underset{1\\times{}m}{\\textbf{b}} $ \n",
    "#### $ \\hspace{0.65cm} = \\begin{bmatrix} \\textbf{w}^{T}\\cdot{}\\textbf{x}^{(1)} & \\textbf{w}^{T}\\cdot{}\\textbf{x}^{(2)} & \\cdots{} & \\textbf{w}^{T}\\cdot{}\\textbf{x}^{(m)} \\end{bmatrix} + \\begin{bmatrix} b_{1} & b_{2} & \\cdots{} & b_{m} \\end{bmatrix} $ \n",
    "#### $ \\hspace{0.65cm} = \\begin{bmatrix} w_{1} & w_{2} & \\cdots{} & w_{n} \\end{bmatrix} \\cdot{} \\begin{bmatrix} x^{(1)}_{1} & x^{(2)}_{1} & \\cdots{} & x^{(m)}_{1} \\\\ x^{(1)}_{2} & x^{(2)}_{2} & \\cdots{} & x^{(m)}_{2} \\\\ \\vdots{} & \\vdots{} & \\ddots{} & \\vdots{} \\\\ x^{(1)}_{n} & x^{(2)}_{n} & \\cdots{} & x^{(m)}_{n} \\end{bmatrix} + \\begin{bmatrix} b_{1} & b_{2} & \\cdots{} & b_{m} \\end{bmatrix} $\n",
    "#### $ \\hspace{0.65cm} = \\begin{bmatrix} \\displaystyle\\sum^{n}_{i=1} (w_{i} \\cdot{} x^{(1)}_{i}+b_{1}) & \\displaystyle\\sum^{n}_{i=1} (w_{i} \\cdot{} x^{(2)}_{i}+b_{2}) & \\cdots{} & \\displaystyle\\sum^{n}_{i=1} (w_{i} \\cdot{} x^{(m)}_{i}+b_{m}) \\end{bmatrix} $\n",
    "#### $ \\hspace{0.65cm} = \\begin{bmatrix} z^{(1)}&z^{(2)}&\\cdots{}&z^{(m)} \\end{bmatrix} $ "
   ]
  },
  {
   "cell_type": "markdown",
   "metadata": {},
   "source": [
    "#### **(6) Estimate Target($ \\hat{\\text{y}} $)** : `output`\n",
    "#### $ \\underset{1\\times{}m}{\\hat{\\textbf{y}}} = \\sigma{}(\\underset{1\\times{}m}{\\textbf{z}}) \\;\\; $ (sigmoid) \n",
    "#### $ \\hspace{0.65cm} = \\begin{bmatrix} \\frac{1}{1+e^{-z^{(1)}}} & \\frac{1}{1+e^{-z^{(2)}}} & \\cdots{} & \\frac{1}{1+e^{-z^{(m)}}} \\end{bmatrix} $\n",
    "#### $ \\hspace{0.65cm} = \\begin{bmatrix} \\hat{y}^{(1)} & \\hat{y}^{(2)} & \\cdots{} & \\hat{y}^{(m)} \\end{bmatrix} $"
   ]
  },
  {
   "cell_type": "markdown",
   "metadata": {},
   "source": [
    "#### **(7) Loss Function** :\n",
    "#### $ \\underset{1\\times{m}}{L} = \\ell{}(\\underset{1\\times{}m}{\\hat{\\textbf{y}}},\\, \\underset{1\\times{}m}{\\textbf{y}}) \\;\\; $ (log-loss)\n",
    "#### $ \\hspace{0.65cm} = \\begin{bmatrix} -(y^{(1)} \\cdot{} \\log{}(\\hat{y}^{(1)})+(1-y^{(1)}) \\cdot{} \\log{}(1-\\hat{y}^{(1)})) & \\cdots{} & -(y^{(m)} \\cdot{} \\log{}(\\hat{y}^{(m)})+(1-y^{(m)}) \\cdot{} \\log{}(1-\\hat{y}^{(m)}))\\end{bmatrix} $\n",
    "#### $ \\hspace{0.65cm} = \\begin{bmatrix} \\ell{}(\\hat{y}^{(1)},\\, y^{(1)}) & \\ell{}(\\hat{y}^{(2)},\\, y^{(2)}) & \\cdots{} & \\ell{}(\\hat{y}^{(m)},\\, y^{(m)}) \\end{bmatrix} $\n",
    "#### $ \\hspace{0.65cm} = \\begin{bmatrix} \\ell{}^{(1)} & \\ell{}^{(2)} & \\cdots{} & \\ell{}^{(m)} \\end{bmatrix} $"
   ]
  },
  {
   "cell_type": "markdown",
   "metadata": {},
   "source": [
    "#### **(8) Cross Function** : \n",
    "#### $ \\underset{1\\times{}1}{J} = J(\\textbf{w},\\, \\textbf{b}) = \\frac{1}{m} \\cdot{} \\displaystyle\\sum^{m}_{i=1} \\ell(\\hat{y}^{(i)},\\, y^{(i)}) = \\frac{1}{m} \\cdot{} L \\cdot{} \\underset{m\\times{}1}{\\textbf{1}} $"
   ]
  },
  {
   "cell_type": "markdown",
   "metadata": {},
   "source": [
    "<b></b>"
   ]
  },
  {
   "cell_type": "markdown",
   "metadata": {},
   "source": [
    "> ## **Back Propagation**"
   ]
  },
  {
   "cell_type": "markdown",
   "metadata": {},
   "source": [
    "#### **[GRAPH]**"
   ]
  },
  {
   "cell_type": "markdown",
   "metadata": {},
   "source": [
    "#### **(1) $ \\frac{\\partial{}J}{\\partial{}\\hat{\\textbf{y}}} $** : \n",
    "#### $ \\underset{1\\times{}m}{\\frac{\\partial{}J}{\\partial{}\\hat{\\textbf{y}}}} = \\frac{\\partial{}}{\\partial{}\\hat{\\textbf{y}}} \\cdot{} \\begin{bmatrix} \\frac{\\partial{}J}{\\partial{}\\hat{y}^{(1)}} & \\frac{\\partial{}J}{\\partial{}\\hat{y}^{(2)}} & \\cdots{} & \\frac{\\partial{}J}{{\\partial{}\\hat{y}^{(m)}}} \\end{bmatrix} $\n",
    "#### $ \\hspace{0.625cm} = \\begin{bmatrix} (-\\frac{y^{(1)}}{\\hat{y}^{(1)}}+\\frac{1-y^{(1)}}{1-\\hat{y}^{(1)}}) & (-\\frac{y^{(2)}}{\\hat{y}^{(2)}}+\\frac{1-y^{(2)}}{1-\\hat{y}^{(2)}}) & \\cdots{} & (-\\frac{y^{(m)}}{\\hat{y}^{(m)}}+\\frac{1-y^{(m)}}{1-\\hat{y}^{(m)}}) \\end{bmatrix} $ "
   ]
  },
  {
   "cell_type": "markdown",
   "metadata": {},
   "source": [
    "#### **(2) $ \\frac{\\partial{}J}{\\partial{}\\textbf{z}} $** :\n",
    "#### $ \\underset{1\\times{}m}{\\frac{\\partial{}J}{\\partial{}\\textbf{z}}} = \\frac{\\partial{}J}{\\partial{}\\hat{\\textbf{y}}} \\cdot{} \\frac{\\partial{}\\hat{\\textbf{y}}}{\\partial{}\\textbf{z}} $ \n",
    "#### $ \\hspace{0.665cm} = \\begin{bmatrix} (-\\frac{y^{(1)}}{\\hat{y}^{(1)}}+\\frac{1-y^{(1)}}{1-\\hat{y}^{(1)}}) & \\cdots{} & (-\\frac{y^{(m)}}{\\hat{y}^{(m)}}+\\frac{1-y^{(m)}}{1-\\hat{y}^{(m)}}) \\end{bmatrix} \\cdot{} \\begin{bmatrix} \\frac{\\partial{}\\hat{y}^{(1)}}{\\partial{}\\textbf{z}} \\\\ \\frac{\\partial{}\\hat{y}^{(2)}}{\\partial{}\\textbf{z}} \\\\ \\vdots{} \\\\ \\frac{\\partial{}\\hat{y}^{(m)}}{\\partial{}\\textbf{z}} \\end{bmatrix} $\n",
    "#### $ \\hspace{0.665cm} = \\begin{bmatrix} (-\\frac{y^{(1)}}{\\hat{y}^{(1)}}+\\frac{1-y^{(1)}}{1-\\hat{y}^{(1)}}) & \\cdots{} & (-\\frac{y^{(m)}}{\\hat{y}^{(m)}}+\\frac{1-y^{(m)}}{1-\\hat{y}^{(m)}}) \\end{bmatrix} \\cdot{} \\begin{bmatrix} \\frac{\\partial{}\\hat{y}^{(1)}}{\\partial{}z^{(1)}} & \\frac{\\partial{}\\hat{y}^{(1)}}{\\partial{}z^{(2)}} & \\cdots{} & \\frac{\\partial{}\\hat{y}^{(1)}}{\\partial{}z^{(m)}} \\\\ \\frac{\\partial{}\\hat{y}^{(2)}}{\\partial{}z^{(1)}} & \\frac{\\partial{}\\hat{y}^{(2)}}{\\partial{}z^{(2)}} & \\cdots{} & \\frac{\\partial{}\\hat{y}^{(2)}}{\\partial{}z^{(m)}} \\\\ \\vdots{} & \\vdots{} & \\ddots{} & \\vdots{} \\\\ \\frac{\\partial{}\\hat{y}^{(m)}}{\\partial{}z^{(1)}} & \\frac{\\partial{}\\hat{y}^{(m)}}{\\partial{}z^{(2)}} & \\cdots{} & \\frac{\\partial{}\\hat{y}^{(m)}}{\\partial{}z^{(m)}} \\end{bmatrix} $\n",
    "#### $ \\hspace{0.665cm} = \\underset{1\\times{}m}{\\begin{bmatrix} (-\\frac{y^{(1)}}{\\hat{y}^{(1)}}+\\frac{1-y^{(1)}}{1-\\hat{y}^{(1)}}) & \\cdots{} & (-\\frac{y^{(m)}}{\\hat{y}^{(m)}}+\\frac{1-y^{(m)}}{1-\\hat{y}^{(m)}}) \\end{bmatrix}} \\cdot{} \\underset{m\\times{}m}{\\begin{bmatrix} \\hat{y}^{(1)} \\cdot{} (1-\\hat{y}^{(1)}) & 0 & \\cdots{} & 0 \\\\ 0 & \\hat{y}^{(2)} \\cdot{} (1-\\hat{y}^{(2)}) & \\cdots{} & 0 \\\\ \\vdots{} & \\vdots{} & \\ddots{} & \\vdots{} \\\\ 0 & 0 & \\cdots{} & \\hat{y}^{(m)} \\cdot{} (1-\\hat{y}^{(m)}) \\end{bmatrix}} $\n",
    "#### $ \\hspace{0.665cm} = \\underset{1\\times{}m}{\\begin{bmatrix} (-\\frac{y^{(1)}}{\\hat{y}^{(1)}}+\\frac{1-y^{(1)}}{1-\\hat{y}^{(1)}}) \\cdot{} \\hat{y}^{(1)} \\cdot{} (1-\\hat{y}^{(1)}) & \\cdots{} & (-\\frac{y^{(m)}}{\\hat{y}^{(m)}}+\\frac{1-y^{(m)}}{1-\\hat{y}^{(m)}}) \\cdot{} \\hat{y}^{(m)} \\cdot{} (1-\\hat{y}^{(m)}) \\end{bmatrix}} $\n",
    "#### $ \\hspace{0.665cm} = \\begin{bmatrix} \\hat{y}^{(1)}-y^{(1)} & \\cdots{} & \\hat{y}^{(m)}-y^{(m)} \\end{bmatrix} $\n",
    "#### $ \\hspace{0.665cm} = \\hat{\\textbf{y}} - \\textbf{y} $"
   ]
  },
  {
   "cell_type": "markdown",
   "metadata": {},
   "source": [
    "#### **(3) $ \\frac{\\partial{}J}{\\partial{}\\textbf{w}} $** :\n",
    "#### $ \\underset{1\\times{}n}{\\frac{\\partial{}J}{\\partial{}\\textbf{w}^{T}}} = \\frac{\\partial{}J}{\\partial{}\\hat{\\textbf{y}}} \\cdot{} \\frac{\\partial{}\\hat{\\textbf{y}}}{\\partial{}\\textbf{z}} \\cdot{} \\frac{\\partial{}\\textbf{z}}{\\partial{}\\textbf{w}^{T}} $\n",
    "#### $ \\hspace{0.675cm} = \\frac{\\partial{}J}{\\partial{}\\textbf{z}} \\cdot{} \\frac{\\partial{}\\textbf{z}}{\\partial{}\\textbf{w}^{T}} $\n",
    "#### $ \\hspace{0.675cm} = \\begin{bmatrix} \\hat{y}^{(1)}-y^{(1)} & \\cdots{} & \\hat{y}^{(m)}-y^{(m)} \\end{bmatrix} \\cdot{} \\begin{bmatrix} \\frac{\\partial{}z^{(1)}}{\\partial{}\\textbf{w}^{T}} \\\\ \\frac{\\partial{}z^{(2)}}{\\partial{}\\textbf{w}^{T}} \\\\ \\vdots{} \\\\ \\frac{\\partial{}z^{(m)}}{\\partial{}\\textbf{w}^{T}} \\end{bmatrix} $\n",
    "#### $ \\hspace{0.675cm} = \\begin{bmatrix} \\hat{y}^{(1)}-y^{(1)} & \\cdots{} & \\hat{y}^{(m)}-y^{(m)} \\end{bmatrix} \\cdot{} \\begin{bmatrix} \\frac{\\partial{}z^{(1)}}{\\partial{}w_{1}} & \\frac{\\partial{}z^{(1)}}{\\partial{}w_{2}} & \\cdots{} & \\frac{\\partial{}z^{(1)}}{\\partial{}w_{n}} \\\\ \\frac{\\partial{}z^{(2)}}{\\partial{}w_{1}} & \\frac{\\partial{}z^{(2)}}{\\partial{}w_{2}} & \\cdots{} & \\frac{\\partial{}z^{(2)}}{\\partial{}w_{n}} \\\\ \\vdots{} & \\vdots{} & \\ddots{} & \\vdots{} \\\\ \\frac{\\partial{}z^{(m)}}{\\partial{}w_{1}} & \\frac{\\partial{}z^{(m)}}{\\partial{}w_{2}} & \\cdots{} & \\frac{\\partial{}z^{(m)}}{\\partial{}w_{n}} \\end{bmatrix} $\n",
    "#### $ \\hspace{0.675cm} = \\underset{1\\times{}m}{\\begin{bmatrix} \\hat{y}^{(1)}-y^{(1)} & \\cdots{} & \\hat{y}^{(m)}-y^{(m)} \\end{bmatrix}} \\cdot{} \\underset{m\\times{}n}{\\begin{bmatrix} x^{(1)}_{1} & x^{(1)}_{2} & \\cdots{} & x^{(1)}_{n} \\\\ x^{(2)}_{1} & x^{(2)}_{2} & \\cdots{} & x^{(2)}_{n} \\\\ \\vdots{} & \\vdots{} & \\ddots{} & \\vdots{} \\\\ x^{(m)}_{1} & x^{(m)}_{2} & \\cdots{} & x^{(m)}_{n} \\end{bmatrix}} $\n",
    "#### $ \\hspace{0.675cm} = \\underset{1\\times{}n}{\\begin{bmatrix} \\sum^{m}_{i=1}(\\hat{y}^{(i)}-y^{(i)}) \\cdot{} x^{(i)}_{1} & \\cdots{} & \\sum^{m}_{i=1}(\\hat{y}^{(i)}-y^{(i)}) \\cdot{} x^{(i)}_{n} \\end{bmatrix}} $\n",
    "#### $ \\hspace{0.675cm} = (\\hat{\\textbf{y}} - \\textbf{y}) \\cdot{} {X}^{T} $\n",
    "#### $ \\underset{n\\times{}1}{\\frac{\\partial{}J}{\\partial{}\\textbf{w}}} = (\\frac{\\partial{}J}{\\partial{}\\textbf{w}^{T}})^{T} = (\\frac{\\partial{}J}{\\partial{}\\hat{\\textbf{y}}} \\cdot{} \\frac{\\partial{}\\hat{\\textbf{y}}}{\\partial{}\\textbf{z}} \\cdot{} \\frac{\\partial{}\\textbf{z}}{\\partial{}\\textbf{w}^{T}})^{T} = (\\frac{\\partial{}\\textbf{z}}{\\partial{}\\textbf{w}^{T}})^{T} \\cdot{} (\\frac{\\partial{}J}{\\partial{}\\hat{\\textbf{y}}})^{T} \\cdot{} (\\frac{\\partial{}\\hat{\\textbf{y}}}{\\partial{}\\textbf{z}})^{T} $ \n",
    "#### $ \\hspace{0.575cm} = ((\\hat{\\textbf{y}} - \\textbf{y}) \\cdot{} {X}^{T})^{T} $\n",
    "#### $ \\hspace{0.575cm} = \\underset{n\\times{}1}{\\begin{bmatrix} \\sum^{m}_{i=1}(\\hat{y}^{(i)}-y^{(i)}) \\cdot{} x^{(i)}_{1} \\\\ \\vdots{} \\\\ \\sum^{m}_{i=1}(\\hat{y}^{(i)}-y^{(i)}) \\cdot{} x^{(i)}_{n} \\end{bmatrix}} $ \n",
    "#### $ \\hspace{0.575cm} = X \\cdot{} (\\hat{\\textbf{y}} - \\textbf{y})^{T} $"
   ]
  },
  {
   "cell_type": "markdown",
   "metadata": {},
   "source": [
    "#### **(4) $ \\frac{\\partial{}J}{\\partial{}\\textbf{b}} $** :\n",
    "#### $ \\underset{1\\times{}m}{\\frac{\\partial{}J}{\\partial{}\\textbf{b}}} = \\frac{\\partial{}J}{\\partial{}\\hat{\\textbf{y}}} \\cdot{} \\frac{\\partial{}\\hat{\\textbf{y}}}{\\partial{}\\textbf{z}} \\cdot{} \\frac{\\partial{}\\textbf{z}}{\\partial{}\\textbf{b}} $\n",
    "#### $ \\hspace{0.575cm} = \\frac{\\partial{}J}{\\partial{}\\textbf{z}} \\cdot{} \\frac{\\partial{}\\textbf{z}}{\\partial{}\\textbf{b}} $\n",
    "#### $ \\hspace{0.575cm} = \\begin{bmatrix} \\hat{y}^{(1)}-y^{(1)} & \\cdots{} & \\hat{y}^{(m)}-y^{(m)} \\end{bmatrix} \\cdot{} \\begin{bmatrix} \\frac{\\partial{}z^{(1)}}{\\partial{}\\textbf{b}} \\\\ \\frac{\\partial{}z^{(2)}}{\\partial{}\\textbf{b}} \\\\ \\vdots{} \\\\ \\frac{\\partial{}z^{(m)}}{\\partial{}\\textbf{b}} \\end{bmatrix} $\n",
    "#### $ \\hspace{0.575cm} = \\begin{bmatrix} \\hat{y}^{(1)}-y^{(1)} & \\cdots{} & \\hat{y}^{(m)}-y^{(m)} \\end{bmatrix} \\cdot{} \\begin{bmatrix} \\frac{\\partial{}z^{(1)}}{\\partial{}b_{1}} & \\frac{\\partial{}z^{(1)}}{\\partial{}b_{2}} & \\cdots{} & \\frac{\\partial{}z^{(1)}}{\\partial{}b_{m}} \\\\ \\frac{\\partial{}z^{(2)}}{\\partial{}b_{1}} & \\frac{\\partial{}z^{(2)}}{\\partial{}b_{2}} & \\cdots{} & \\frac{\\partial{}z^{(2)}}{\\partial{}b_{m}} \\\\ \\vdots{} & \\vdots{} & \\ddots{} & \\vdots{} \\\\ \\frac{\\partial{}z^{(m)}}{\\partial{}b_{1}} & \\frac{\\partial{}z^{(m)}}{\\partial{}b_{2}} & \\cdots{} & \\frac{\\partial{}z^{(m)}}{\\partial{}b_{m}} \\end{bmatrix} $\n",
    "#### $ \\hspace{0.575cm} = \\underset{1\\times{}m}{\\begin{bmatrix} \\hat{y}^{(1)}-y^{(1)} & \\cdots{} & \\hat{y}^{(m)}-y^{(m)} \\end{bmatrix}} \\cdot{} \\underset{m\\times{}m}{\\begin{bmatrix} 1 & 1 & \\cdots{} & 1 \\\\ \\vdots{} & \\vdots{} & \\ddots{} & \\vdots{} \\\\ 1 & 1 & \\cdots{} & 1 \\end{bmatrix}} $\n",
    "#### $ \\hspace{0.575cm} = \\underset{1\\times{}m}{\\begin{bmatrix} \\sum{}^{m}_{i=1}(\\hat{y}^{(i)}-y^{(i)}) & \\cdots{} & \\sum{}^{m}_{i=1}(\\hat{y}^{(i)}-y^{(i)}) \\end{bmatrix}} $"
   ]
  },
  {
   "cell_type": "markdown",
   "metadata": {},
   "source": [
    "<b></b>"
   ]
  },
  {
   "cell_type": "markdown",
   "metadata": {},
   "source": [
    "> ## **Optimization**"
   ]
  },
  {
   "cell_type": "markdown",
   "metadata": {},
   "source": [
    "#### **(1) Update $ \\, \\textbf{w} $** :\n",
    "#### $ \\textbf{w} = \\textbf{w} - \\alpha{} \\cdot{} \\frac{1}{m} \\cdot{} \\frac{\\partial{}J}{\\partial{}\\textbf{w}} $\n",
    "#### ※ $ \\, \\alpha{} $ : learning rate"
   ]
  },
  {
   "cell_type": "markdown",
   "metadata": {},
   "source": [
    "#### **(2) Update $ \\, b $** :\n",
    "#### $ \\textbf{b} = \\textbf{b} - \\alpha{} \\cdot{} \\frac{1}{m} \\cdot{} \\frac{\\partial{}J}{\\partial{}\\textbf{b}} $"
   ]
  }
 ],
 "metadata": {
  "kernelspec": {
   "display_name": "Python 3",
   "language": "python",
   "name": "python3"
  },
  "language_info": {
   "codemirror_mode": {
    "name": "ipython",
    "version": 3
   },
   "file_extension": ".py",
   "mimetype": "text/x-python",
   "name": "python",
   "nbconvert_exporter": "python",
   "pygments_lexer": "ipython3",
   "version": "3.8.18"
  },
  "orig_nbformat": 4
 },
 "nbformat": 4,
 "nbformat_minor": 2
}
