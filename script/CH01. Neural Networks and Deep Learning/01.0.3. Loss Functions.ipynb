{
 "cells": [
  {
   "attachments": {},
   "cell_type": "markdown",
   "metadata": {},
   "source": [
    "# CH01.0.3. **Loss Function**"
   ]
  },
  {
   "cell_type": "markdown",
   "metadata": {},
   "source": [
    "> ## **Loss Functions _ Regression**"
   ]
  },
  {
   "cell_type": "markdown",
   "metadata": {},
   "source": [
    "#### **(1) Cross Entropy** : **[CONTENTS]**\n",
    "#### $ \\Rightarrow{} \\ell{}^{(i)} = - \\displaystyle\\sum^{n_{y}}_{k=1} y^{(i)}_{k} \\log{}\\hat{y}^{(i)}_{k} $"
   ]
  },
  {
   "cell_type": "markdown",
   "metadata": {},
   "source": [
    "<b></b>"
   ]
  },
  {
   "cell_type": "markdown",
   "metadata": {},
   "source": [
    "> ## **Loss Functions _ Classification**"
   ]
  },
  {
   "cell_type": "markdown",
   "metadata": {},
   "source": [
    "#### **(1) MSE** : **[CONTENTS]**\n",
    "#### $ \\Rightarrow{} \\ell{}^{(i)} = (y^{(i)}-\\hat{y}^{(i)})^{2} $"
   ]
  },
  {
   "cell_type": "markdown",
   "metadata": {},
   "source": [
    "#### **(2) MAE** : **[CONTENTS]**\n",
    "#### $ \\Rightarrow{} \\ell{}^{(i)} = |y^{(i)}-\\hat{y}^{(i)}| $"
   ]
  }
 ],
 "metadata": {
  "kernelspec": {
   "display_name": "Python 3",
   "language": "python",
   "name": "python3"
  },
  "language_info": {
   "codemirror_mode": {
    "name": "ipython",
    "version": 3
   },
   "file_extension": ".py",
   "mimetype": "text/x-python",
   "name": "python",
   "nbconvert_exporter": "python",
   "pygments_lexer": "ipython3",
   "version": "3.8.12"
  },
  "orig_nbformat": 4
 },
 "nbformat": 4,
 "nbformat_minor": 2
}
