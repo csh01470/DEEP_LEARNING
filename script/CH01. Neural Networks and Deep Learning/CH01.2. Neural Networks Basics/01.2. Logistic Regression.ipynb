{
 "cells": [
  {
   "attachments": {},
   "cell_type": "markdown",
   "metadata": {},
   "source": [
    "# CH01.2. **Logistic Regression**"
   ]
  },
  {
   "cell_type": "markdown",
   "metadata": {},
   "source": [
    "> ## **Propagatation**"
   ]
  },
  {
   "cell_type": "markdown",
   "metadata": {},
   "source": [
    "#### **[GRAPH]**"
   ]
  },
  {
   "cell_type": "markdown",
   "metadata": {},
   "source": [
    "#### **(1) Feature data** : `input`\n",
    "#### $ \\underset{n\\times{}m}{X} = \\begin{bmatrix} x_{11}&x_{12}&\\cdots{}&x_{1n} \\\\ x_{21}&x_{22}&\\cdots{}&x_{2n} \\\\ \\cdots{}&\\cdots{}&\\cdots{}&\\cdots{} \\\\ x_{n1}&x_{n2}&\\cdots{}&x_{nm} \\end{bmatrix} = \\begin{bmatrix} x^{(1)}_{1}&x^{(2)}_{1}&\\cdots{}&x^{(m)}_{1} \\\\ x^{(1)}_{2}&x^{(2)}_{2}&\\cdots{}&x^{(m)}_{2} \\\\ \\cdots{}&\\cdots{}&\\cdots{}&\\cdots{} \\\\ x^{(1)}_{n}&x^{(2)}_{n}&\\cdots{}&x^{(m)}_{n} \\end{bmatrix} = \\begin{bmatrix} \\textbf{x}^{(1)}&\\textbf{x}^{(2)}&\\cdots{}&\\textbf{x}^{(m)}\\end{bmatrix} $\n",
    "#### ※ $ \\, m $ : record size, $ \\, n = n_{x} $ : feature size"
   ]
  },
  {
   "cell_type": "markdown",
   "metadata": {},
   "source": [
    "#### **(2) Target data** : `input`\n",
    "#### $ \\underset{1\\times{}m}{\\textbf{y}} = \\begin{bmatrix} y_{1}&y_{2}&\\cdots{}&y_{m} \\end{bmatrix} = \\begin{bmatrix} y^{(1)}&y^{(2)}&\\cdots{}&y^{(m)} \\end{bmatrix} $"
   ]
  },
  {
   "cell_type": "markdown",
   "metadata": {},
   "source": [
    "#### **(3) Weight** : `Hyperparameter`\n",
    "#### $ \\underset{n\\times{}1}{\\textbf{w}} = \\begin{bmatrix} w_{1} \\\\ w_{2} \\\\ \\cdots{} \\\\ w_{n} \\end{bmatrix} = \\begin{bmatrix} w^{(1)} \\\\ w^{(2)} \\\\ \\cdots{} \\\\ w^{(m)} \\end{bmatrix},\\;\\; \\underset{1\\times{}n}{\\textbf{w}^{T}} = \\begin{bmatrix} w^{(1)}&w^{(2)}&\\cdots{}&w^{(n)} \\end{bmatrix} $"
   ]
  },
  {
   "cell_type": "markdown",
   "metadata": {},
   "source": [
    "#### **(4) Bias** : `Hyperparameter`\n",
    "#### $ \\underset{1\\times{}m}{\\textbf{b}} = \\begin{bmatrix} b&b&\\cdots&{}b \\end{bmatrix} $"
   ]
  },
  {
   "cell_type": "markdown",
   "metadata": {},
   "source": [
    "#### **(5) Linear transformation** :\n",
    "#### $ \\underset{1\\times{}n}{\\textbf{w}^{T}}\\cdot{}\\underset{n\\times{}m}{X} + \\underset{1\\times{}b}{\\textbf{b}} = Z(X) : \\mathbb{R}^{n} \\rightarrow{} \\mathbb{R}^{1} $\n",
    "#### $ \\underset{1\\times{}m}{\\textbf{z}} = Z(X) = \\begin{bmatrix} w^{(1)}&w^{(2)}&\\cdots{}&w^{(n)} \\end{bmatrix} \\begin{bmatrix} x^{(1)}_{1}&x^{(2)}_{1}&\\cdots{}&x^{(m)}_{1} \\\\ x^{(1)}_{2}&x^{(2)}_{2}&\\cdots{}&x^{(m)}_{2} \\\\ \\cdots{}&\\cdots{}&\\cdots{}&\\cdots{} \\\\ x^{(1)}_{n}&x^{(2)}_{n}&\\cdots{}&x^{(m)}_{n} \\end{bmatrix} + \\begin{bmatrix} b&b&\\cdots&{}b \\end{bmatrix} $ \n",
    "#### $ \\hspace{0.25cm} = \\begin{bmatrix} \\displaystyle\\sum^{n}_{i=1} w^{(1)}_{i}x^{(1)}_{i}+b&\\displaystyle\\sum^{n}_{i=1} w^{(2)}_{i}x^{(2)}_{i}+b&\\cdots{}&\\displaystyle\\sum^{n}_{i=1} w^{(m)}_{i}x^{(m)}_{i}+b \\end{bmatrix} $\n",
    "#### $ \\hspace{0.25cm} = \\begin{bmatrix} \\textbf{w}\\textbf{x}^{(1)}+b&\\textbf{w}\\textbf{x}^{(2)}+b&\\cdots{}&\\textbf{w}\\textbf{x}^{(m)}+b \\end{bmatrix} $"
   ]
  },
  {
   "cell_type": "markdown",
   "metadata": {},
   "source": [
    "#### **(6) Estimate Target($ \\hat{\\text{y}} $)** : `output`\n",
    "#### $ \\sigma{}(\\textbf{z}) = \\frac{1}{1+e^{-z}} \\;\\; $ (sigmoid)\n",
    "#### $ \\underset{1\\times{}m}{\\hat{\\textbf{y}}} = \\sigma{}(\\textbf{z}) = \\begin{bmatrix} \\frac{1}{1+e^{\\textbf{w}\\textbf{x}^{(1)}+b}}&\\frac{1}{1+e^{\\textbf{w}\\textbf{x}^{(2)}+b}}&\\cdots{}&\\frac{1}{1+e^{\\textbf{w}\\textbf{x}^{(m)}+b}} \\end{bmatrix} $ "
   ]
  },
  {
   "cell_type": "markdown",
   "metadata": {},
   "source": [
    "#### **(7) Loss Function And Cross Function** :\n",
    "#### $ - (y^{(i)}\\log{}(\\hat{y}^{(i)})+(1-y^{(i)})\\log{}(1-\\hat{y}^{(i)}))= \\ell(\\hat{y}^{(i)},\\, y^{(i)}) : \\mathbb{R}^{1} \\rightarrow{} \\mathbb{R}^{1} \\;\\; $ (cross-entropy)\n",
    "#### $ \\frac{1}{m} \\times{} \\displaystyle\\sum^{m}_{i=1} \\ell(\\hat{y}^{(i)},\\, y^{(i)}) = J(\\textbf{w},\\, \\textbf{b}) : \\mathbb{R}^{1} \\rightarrow{} \\mathbb{R}^{1} $\n",
    "#### $ \\underset{1\\times{}1}{j} = \\frac{1}{m} \\times{} \\displaystyle\\sum^{m}_{i=1} \\ell(\\hat{y}^{(i)},\\, y^{(i)}) $"
   ]
  },
  {
   "cell_type": "markdown",
   "metadata": {},
   "source": [
    "<b></b>"
   ]
  },
  {
   "cell_type": "markdown",
   "metadata": {},
   "source": [
    "> ## **Back Propagation $ \\; \\approx{} $ Optimization**"
   ]
  },
  {
   "cell_type": "markdown",
   "metadata": {},
   "source": [
    "#### **[GRAPH]**"
   ]
  }
 ],
 "metadata": {
  "kernelspec": {
   "display_name": "Python 3",
   "language": "python",
   "name": "python3"
  },
  "language_info": {
   "codemirror_mode": {
    "name": "ipython",
    "version": 3
   },
   "file_extension": ".py",
   "mimetype": "text/x-python",
   "name": "python",
   "nbconvert_exporter": "python",
   "pygments_lexer": "ipython3",
   "version": "3.8.12"
  },
  "orig_nbformat": 4
 },
 "nbformat": 4,
 "nbformat_minor": 2
}
