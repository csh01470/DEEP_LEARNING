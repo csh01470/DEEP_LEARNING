{
 "cells": [
  {
   "attachments": {},
   "cell_type": "markdown",
   "metadata": {},
   "source": [
    "# CH01.2. **Logistic Regression ($ \\, 1 \\, $ Sample)**"
   ]
  },
  {
   "cell_type": "markdown",
   "metadata": {},
   "source": [
    "> ## **Foward Propagatation**"
   ]
  },
  {
   "cell_type": "markdown",
   "metadata": {},
   "source": [
    "#### **[GRAPH]**"
   ]
  },
  {
   "cell_type": "markdown",
   "metadata": {},
   "source": [
    "#### **(1) Feature data** : `input`\n",
    "#### $ \\underset{n\\times{}1}{\\textbf{x}^{(1)}} = \\begin{bmatrix} x_{11} \\\\ x_{21} \\\\ \\cdots{} \\\\ x_{n1} \\end{bmatrix} = \\begin{bmatrix} x^{(1)}_{1} \\\\ x^{(1)}_{2} \\\\ \\cdots{} \\\\ x^{(1)}_{n} \\end{bmatrix} $ : feature size\n",
    "#### ※ $ \\, n $ : feature size"
   ]
  },
  {
   "cell_type": "markdown",
   "metadata": {},
   "source": [
    "#### **(2) Target data** : `input`\n",
    "#### $ \\underset{1\\times{}1}{y} = y^{(1)} $"
   ]
  },
  {
   "cell_type": "markdown",
   "metadata": {},
   "source": [
    "#### **(3) Weight** : `parameter`\n",
    "#### $ \\underset{n\\times{}1}{\\textbf{w}} = \\begin{bmatrix} w_{1} \\\\ w_{2} \\\\ \\cdots{} \\\\ w_{n} \\end{bmatrix},\\;\\; \\underset{1\\times{}n}{\\textbf{w}^{T}} = \\begin{bmatrix} w_{1} & w_{2} & \\cdots{} & w_{n} \\end{bmatrix} $"
   ]
  },
  {
   "cell_type": "markdown",
   "metadata": {},
   "source": [
    "#### **(4) Bias** : `parameter`\n",
    "#### $ \\underset{1\\times{}1}{b} = b $"
   ]
  },
  {
   "cell_type": "markdown",
   "metadata": {},
   "source": [
    "#### **(5) Linear transformation** :\n",
    "#### $ \\underset{1\\times{}1}{z^{(1)}} = \\underset{1\\times{}n}{\\textbf{w}^{T}}\\cdot{}\\underset{n\\times{}1}{\\textbf{x}^{(1)}} + \\underset{1\\times{}1}{b} $ \n",
    "#### $ \\hspace{0.55cm} = \\begin{bmatrix} w_{1} & w_{2} & \\cdots{} & w_{n} \\end{bmatrix} \\begin{bmatrix} x^{(1)}_{1} \\\\ x^{(1)}_{2} \\\\ \\cdots{} \\\\ x^{(1)}_{n} \\end{bmatrix} + b $ \n",
    "#### $ \\hspace{0.55cm} = w_{1}x^{(1)}_{1} + w_{2}x^{(1)}_{2} + \\cdots{} + w_{n}x^{(1)}_{n} + b $\n",
    "#### $ \\hspace{0.55cm} = \\displaystyle\\sum^{n}_{k=1} w_{k}x^{(1)}_{k}+b $"
   ]
  },
  {
   "cell_type": "markdown",
   "metadata": {},
   "source": [
    "#### **(6) Estimate Target($ \\hat{\\text{y}} $)** : `output`\n",
    "#### $ \\underset{1\\times{}1}{\\hat{y}^{(1)}} = \\sigma{}(z^{(1)}) = \\frac{1}{1+e^{-z^{(1)}}} = \\frac{1}{1+e^{-(\\sum{}^{n}_{k=1} w_{k}x^{(1)}_{k}+b)}} \\;\\; $ (sigmoid)"
   ]
  },
  {
   "cell_type": "markdown",
   "metadata": {},
   "source": [
    "#### **(7) Loss Function = Cost Function** :\n",
    "#### $ \\underset{1\\times{}1}{l^{(1)}} = \\ell{}(\\hat{y}^{(1)},\\, y^{(1)}) = -(y^{(1)}\\log{}(\\hat{y}^{(1)})+(1-y^{(1)})\\log{}(1-\\hat{y}^{(1)})) \\;\\; $ (cross-entropy)"
   ]
  },
  {
   "cell_type": "markdown",
   "metadata": {},
   "source": [
    "<b></b>"
   ]
  },
  {
   "cell_type": "markdown",
   "metadata": {},
   "source": [
    "> ## **Back Propagation**"
   ]
  },
  {
   "cell_type": "markdown",
   "metadata": {},
   "source": [
    "#### **[GRAPH]**"
   ]
  },
  {
   "cell_type": "markdown",
   "metadata": {},
   "source": [
    "#### **(1) $ \\frac{\\text{d}l^{(1)}}{\\text{d}\\hat{y}^{(1)}} $** : \n",
    "#### $ \\underset{1\\times{}1}{\\frac{\\text{d}l^{(1)}}{\\text{d}\\hat{y}^{(1)}}} = \\frac{\\text{d}}{\\text{d}\\hat{y}^{(1)}} \\begin{bmatrix} -(y^{(1)}\\log{}(\\hat{y}^{(1)})+(1-y^{(1)})\\log{}(1-\\hat{y}^{(1)})) \\end{bmatrix} $\n",
    "#### $ \\hspace{0.695cm} = - \\frac{y^{(1)}}{\\hat{y}^{(1)}} + \\frac{1-y^{(1)}}{1-\\hat{y}^{(1)}} \\;\\;\\;\\; $ ($ \\because{} \\, \\frac{\\text{d}}{\\text{d}x}\\log{}(x) = \\frac{1}{x} $)"
   ]
  },
  {
   "cell_type": "markdown",
   "metadata": {},
   "source": [
    "#### **(2) $ \\frac{\\text{d}l^{(1)}}{\\text{d}z^{(1)}} $** :\n",
    "#### $ \\underset{1\\times{}1}{\\frac{\\text{d}l^{(1)}}{\\text{d}z^{(1)}}} = \\frac{\\text{d}l^{(1)}}{\\text{d}\\hat{y}^{(1)}} \\cdot{} \\frac{\\text{d}\\hat{y}^{(1)}}{\\text{d}z^{(1)}} = (- \\frac{y^{(1)}}{\\hat{y}^{(1)}} + \\frac{1-y^{(1)}}{1-\\hat{y}^{(1)}}) \\cdot{} \\frac{\\text{d}}{\\text{d}z^{(1)}}(\\frac{1}{1+e^{-z^{(1)}}}) $ \n",
    "#### $ \\hspace{0.7cm} = (- \\frac{y^{(1)}}{\\hat{y}^{(1)}} + \\frac{1-y^{(1)}}{1-\\hat{y}^{(1)}}) \\cdot{} \\frac{\\text{d}}{\\text{d}z^{(1)}}(\\frac{e^{z^{(1)}}}{1+e^{z^{(1)}}}) $\n",
    "#### $ \\hspace{0.7cm} = (- \\frac{y^{(1)}}{\\hat{y}^{(1)}} + \\frac{1-y^{(1)}}{1-\\hat{y}^{(1)}}) \\cdot{} (\\frac{e'^{z^{(1)}}(1+e^{z^{(1)}})-e^{z^{(1)}}(1+e^{z^{(1)}})'}{(1+e^{z^{(1)}})^{2}}) $\n",
    "#### $ \\hspace{0.7cm} = (- \\frac{y^{(1)}}{\\hat{y}^{(1)}} + \\frac{1-y^{(1)}}{1-\\hat{y}^{(1)}}) \\cdot{} (\\frac{e^{z^{(1)}}(1+e^{z^{(1)}})-e^{z^{(1)}}e^{z^{(1)}}}{(1+e^{z^{(1)}})^{2}}) $\n",
    "#### $ \\hspace{0.7cm} = (- \\frac{y^{(1)}}{\\hat{y}^{(1)}} + \\frac{1-y^{(1)}}{1-\\hat{y}^{(1)}}) \\cdot{} (\\frac{e^{z^{(1)}}}{(1+e^{z^{(1)}})^{2}}) = (- \\frac{y^{(1)}}{\\hat{y}^{(1)}} + \\frac{1-y^{(1)}}{1-\\hat{y}^{(1)}}) \\cdot{} (\\frac{e^{z^{(1)}}}{1+e^{z^{(1)}}}) \\cdot{} (\\frac{1}{1+e^{z^{(1)}}})$\n",
    "#### $ \\hspace{0.7cm} = (- \\frac{y^{(1)}}{\\hat{y}^{(1)}} + \\frac{1-y^{(1)}}{1-\\hat{y}^{(1)}}) \\cdot{} \\hat{y}^{(1)} \\cdot{} (\\frac{1+e^{z^{(1)}}-e^{z^{(1)}}}{1+e^{z^{(1)}}}) $\n",
    "#### $ \\hspace{0.7cm} = (- \\frac{y^{(1)}}{\\hat{y}^{(1)}} + \\frac{1-y^{(1)}}{1-\\hat{y}^{(1)}}) \\cdot{} \\hat{y}^{(1)} \\cdot{} (1-\\hat{y}^{(1)}) $\n",
    "#### $ \\hspace{0.7cm} = (- \\frac{y^{(1)}}{\\hat{y}^{(1)}} + \\frac{1-y^{(1)}}{1-\\hat{y}^{(1)}}) \\cdot{} \\hat{y}^{(1)} \\cdot{} (1-\\hat{y}^{(1)}) $\n",
    "#### $ \\hspace{0.7cm} = - y^{(1)}(1-\\hat{y}^{(1)}) + (1-y^{(1)})\\hat{y}^{(1)} $\n",
    "#### $ \\hspace{0.7cm} = \\hat{y}^{(1)} - y^{(1)} $"
   ]
  },
  {
   "cell_type": "markdown",
   "metadata": {},
   "source": [
    "#### **(3) $ \\frac{\\text{d}l^{(1)}}{\\text{d}\\textbf{w}} $** :\n",
    "#### $ \\underset{n\\times{}1}{\\frac{\\text{d}l^{(1)}}{\\text{d}\\textbf{w}}} = \\frac{\\text{d}l^{(1)}}{\\text{d}\\hat{y}^{(1)}} \\cdot{} \\frac{\\text{d}\\hat{y}^{(1)}}{\\text{d}z^{(1)}} \\cdot{} \\frac{\\text{d}z^{(1)}}{\\text{d}\\textbf{w}} $\n",
    "#### $ \\hspace{0.575cm} = (\\hat{y}^{(1)} - y^{(1)}) \\cdot{} \\frac{\\text{d}z^{(1)}}{\\text{d}\\textbf{w}} $\n",
    "#### $ \\hspace{0.575cm} = (\\hat{y}^{(1)} - y^{(1)}) \\cdot{} \\begin{bmatrix} \\frac{\\partial{}z^{(1)}}{\\partial{}w_{1}} \\\\ \\frac{\\partial{}z^{(1)}}{\\partial{}w_{2}} \\\\ \\cdots{} \\\\ \\frac{\\partial{}z^{(1)}}{\\partial{}w_{n}} \\end{bmatrix} = (\\hat{y}^{(1)} - y^{(1)}) \\cdot{} \\begin{bmatrix} x^{(1)}_{1} \\\\ x^{(1)}_{2} \\\\ \\cdots{} \\\\ x^{(1)}_{n} \\end{bmatrix} $\n",
    "#### $ \\hspace{0.575cm} = (\\hat{y}^{(1)} - y^{(1)}) \\cdot{} \\underset{n\\times{}1}{\\textbf{x}^{(1)}} $"
   ]
  },
  {
   "cell_type": "markdown",
   "metadata": {},
   "source": [
    "#### **(4) $ \\frac{\\text{d}l^{(1)}}{\\text{d}b} $** :\n",
    "#### $ \\underset{1\\times{}1}{\\frac{\\text{d}l^{(1)}}{\\text{d}b}} = \\frac{\\text{d}l^{(1)}}{\\text{d}\\hat{y}^{(1)}} \\cdot{} \\frac{\\text{d}\\hat{y}^{(1)}}{\\text{d}z^{(1)}} \\cdot{} \\frac{\\text{d}z^{(1)}}{\\text{d}b} $\n",
    "#### $ \\hspace{0.575cm} = (\\hat{y}^{(1)} - y^{(1)}) \\cdot{} \\frac{\\text{d}z^{(1)}}{\\text{d}b} $\n",
    "#### $ \\hspace{0.575cm} = (\\hat{y}^{(1)} - y^{(1)}) \\cdot{} 1 $"
   ]
  },
  {
   "cell_type": "markdown",
   "metadata": {},
   "source": [
    "<b></b>"
   ]
  },
  {
   "cell_type": "markdown",
   "metadata": {},
   "source": [
    "> ## **Optimization**"
   ]
  },
  {
   "cell_type": "markdown",
   "metadata": {},
   "source": [
    "#### **(1) Update $ \\, \\textbf{w} $** :\n",
    "#### $ \\textbf{w} = \\textbf{w} - \\alpha{} \\cdot{} \\frac{\\text{d}l^{(1)}}{\\text{d}\\textbf{w}} $\n",
    "#### ※ $ \\, \\alpha{} $ : learning rate"
   ]
  },
  {
   "cell_type": "markdown",
   "metadata": {},
   "source": [
    "#### **(2) Update $ \\, b $** :\n",
    "#### $ b = b - \\alpha{} \\cdot{} \\frac{\\text{d}l^{(1)}}{\\text{d}b} $"
   ]
  }
 ],
 "metadata": {
  "kernelspec": {
   "display_name": "Python 3",
   "language": "python",
   "name": "python3"
  },
  "language_info": {
   "codemirror_mode": {
    "name": "ipython",
    "version": 3
   },
   "file_extension": ".py",
   "mimetype": "text/x-python",
   "name": "python",
   "nbconvert_exporter": "python",
   "pygments_lexer": "ipython3",
   "version": "3.8.12"
  },
  "orig_nbformat": 4
 },
 "nbformat": 4,
 "nbformat_minor": 2
}
