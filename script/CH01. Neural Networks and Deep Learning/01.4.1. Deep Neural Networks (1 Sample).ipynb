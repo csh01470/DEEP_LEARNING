{
 "cells": [
  {
   "attachments": {},
   "cell_type": "markdown",
   "metadata": {},
   "source": [
    "# CH01.4. **Deep Neural Networks ($ \\, 1 \\, $ Sample)**"
   ]
  },
  {
   "cell_type": "markdown",
   "metadata": {},
   "source": [
    "> ## **Foward Propagatation**"
   ]
  },
  {
   "cell_type": "markdown",
   "metadata": {},
   "source": [
    "#### **[GRAPH]**"
   ]
  },
  {
   "cell_type": "markdown",
   "metadata": {},
   "source": [
    "#### **(1) Feature data** : `input`\n",
    "#### $ \\underset{n^{[0]}\\times{}1}{A^{[0](1)}} = \\textbf{x}^{(1)} = \\begin{bmatrix} x_{1,1} \\\\ x_{2,1} \\\\ \\vdots{} \\\\ x_{n^{[0]},1} \\end{bmatrix} = \\begin{bmatrix} x^{(1)}_{1} \\\\ x^{(1)}_{2} \\\\ \\vdots{} \\\\ x^{(1)}_{n^{[0]}} \\end{bmatrix} $\n",
    "#### ※ $ \\, n^{[0]} $ : feature size"
   ]
  },
  {
   "cell_type": "markdown",
   "metadata": {},
   "source": [
    "#### **(2) Target data** : `input`\n",
    "#### $ \\underset{1\\times{}1}{Y^{(1)}} = Y^{(1)} $"
   ]
  },
  {
   "cell_type": "markdown",
   "metadata": {},
   "source": [
    "#### **(3) Weight of $ \\, 1 $-st Hidden Layer** : `parameter`\n",
    "#### $ \\underset{n^{[1]}\\times{}n^{[0]}}{W^{[1]}} = \\begin{bmatrix} w_{1,1}^{[1]} & w_{1,2}^{[1]} & \\cdots{} & w_{1,n^{[0]}}^{[1]} \\\\ w_{2,1}^{[1]} & w_{2,2}^{[1]} & \\cdots{} & w_{2,n^{[0]}}^{[1]} \\\\ \\vdots{} & \\vdots{} & \\ddots{} & \\vdots{} \\\\ w^{[1]}_{n^{[1]},1} & w_{n^{[1]},2}^{[1]} & \\cdots{} & w_{n^{[1]},n^{[0]}}^{[1]} \\end{bmatrix} = \\begin{bmatrix} (\\textbf{w}^{[1]}_{1})^{T} \\\\ (\\textbf{w}^{[1]}_{2})^{T} \\\\ \\vdots{} \\\\ (\\textbf{w}^{[1]}_{n^{[1]}})^{T} \\end{bmatrix} $\n",
    "#### ※ $ \\, n^{[1]} $ : node size of $ \\, 1 $-st hidden layer"
   ]
  },
  {
   "cell_type": "markdown",
   "metadata": {},
   "source": [
    "#### **(4) Bias of $ \\, 1 $-st Hidden Layer** : `parameter`\n",
    "#### $ \\underset{n^{[1]}\\times{}1}{B^{[1]}} = \\textbf{b}^{[1]} = \\begin{bmatrix} b^{[1]}_{1} \\\\ b^{[1]}_{2} \\\\ \\vdots{} \\\\ b^{[1]}_{n^{[1]}} \\end{bmatrix} $"
   ]
  },
  {
   "cell_type": "markdown",
   "metadata": {},
   "source": [
    "#### **(5) Linear transformation of $ \\, 1 $-st Hidden Layer** :\n",
    "#### $ \\underset{n^{[1]}\\times{}1}{Z^{[1](1)}} = \\textbf{z}^{[1](1)} = \\underset{n^{[1]}\\times{}n^{[0]}}{W^{[1]}}\\cdot{}\\underset{n^{[0]}\\times{}1}{A^{[0](1)}} + \\underset{n^{[1]}\\times{}1}{B^{[1]}} $\n",
    "#### $ \\hspace{0.9375cm} = \\begin{bmatrix} (\\textbf{w}^{[1]}_{1})^{T} \\cdot{} A^{[0](1)} + b^{[1]}_{1}  \\\\ (\\textbf{w}^{[1]}_{2})^{T} \\cdot{} A^{[0](1)} + b^{[1]}_{2} \\\\ \\vdots{} \\\\ (\\textbf{w}^{[1]}_{n^{[1]}})^{T} \\cdot{} A^{[0](1)} + b^{[1]}_{n^{[1]}} \\end{bmatrix} $\n",
    "#### $ \\hspace{0.9375cm} = \\begin{bmatrix} w_{1,1}^{[1]} & w_{1,2}^{[1]} & \\cdots{} & w_{1,n^{[0]}}^{[1]} \\\\ w_{2,1}^{[1]} & w_{2,2}^{[1]} & \\cdots{} & w_{2,n^{[0]}}^{[1]} \\\\ \\vdots{} & \\vdots{} & \\ddots{} & \\vdots{} \\\\ w^{[1]}_{n^{[1]},1} & w_{n^{[1]},2}^{[1]} & \\vdots{} & w_{n^{[1]},n^{[0]}}^{[1]} \\end{bmatrix} \\begin{bmatrix} x^{(1)}_{1} \\\\ x^{(1)}_{2} \\\\ \\vdots{} \\\\ x^{(1)}_{n^{[0]}} \\end{bmatrix} + \\begin{bmatrix} b^{[1]}_{1} \\\\ b^{[1]}_{2} \\\\ \\vdots{} \\\\ b^{[1]}_{n^{[1]}} \\end{bmatrix} $\n",
    "#### $ \\hspace{0.9375cm} = \\begin{bmatrix} \\sum{}^{n^{[0]}}_{i=1}w^{[1]}_{1,i} \\cdot{} x^{(1)}_{i} + b^{[1]}_{1} \\\\ \\sum{}^{n^{[0]}}_{i=1}w^{[1]}_{2,i} \\cdot{} x^{(1)}_{i} + b^{[1]}_{2} \\\\ \\vdots{} \\\\ \\sum{}^{n^{[0]}}_{i=1}w^{[1]}_{n^{[1]},i} \\cdot{} x^{(1)}_{i} + b^{[1]}_{n^{[1]}} \\end{bmatrix} $ \n",
    "#### $ \\hspace{0.9375cm} = \\begin{bmatrix} z^{[1](1)}_{1} \\\\ z^{[1](1)}_{2} \\\\ \\vdots{} \\\\ z^{[1](1)}_{n^{[1]}} \\end{bmatrix} $"
   ]
  },
  {
   "cell_type": "markdown",
   "metadata": {},
   "source": [
    "#### **(6) Activate Function of $ \\, 1 $-st Hidden Layer** :\n",
    "#### $ \\underset{n^{[1]}\\times{}1}{A^{[1](1)}} = \\textbf{a}^{[1](1)} = g(Z^{[1](1)}) $\n",
    "#### $ \\hspace{0.95cm} = \\begin{bmatrix} g(z^{[1](1)}_{1}) \\\\ g(z^{[1](1)}_{2}) \\\\ \\vdots{} \\\\ g(z^{[1](1)}_{n^{[1]}}) \\end{bmatrix} = \\begin{bmatrix} a^{[1](1)}_{1} \\\\ a^{[1](1)}_{2} \\\\ \\vdots{} \\\\ a^{[1](1)}_{n^{[1]}} \\end{bmatrix} $ "
   ]
  },
  {
   "cell_type": "markdown",
   "metadata": {},
   "source": [
    "#### $ \\hspace{3cm} \\vdots{} $"
   ]
  },
  {
   "cell_type": "markdown",
   "metadata": {},
   "source": [
    "#### **(?) Weight of $ \\, k $-st Hidden Layer** : `parameter`\n",
    "#### $ \\underset{n^{[k]}\\times{}n^{[k-1]}}{W^{[n]}} = \\begin{bmatrix} w_{1,1}^{[k]} & w_{1,2}^{[k]} & \\cdots{} & w_{1,n^{[k-1]}}^{[k]} \\\\ w_{2,1}^{[k]} & w_{2,2}^{[k]} & \\cdots{} & w_{2,n^{[k-1]}}^{[k]} \\\\ \\vdots{} & \\vdots{} & \\ddots{} & \\vdots{} \\\\ w^{[k]}_{n^{[k]},1} & w_{n^{[k]},2}^{[k]} & \\cdots{} & w_{n^{[k]},n^{[k-1]}}^{[k]} \\end{bmatrix} = \\begin{bmatrix} (\\textbf{w}^{[k]}_{1})^{T} \\\\ (\\textbf{w}^{[k]}_{2})^{T} \\\\ \\vdots{} \\\\ (\\textbf{w}^{[k]}_{n^{[k]}})^{T} \\end{bmatrix} $"
   ]
  },
  {
   "cell_type": "markdown",
   "metadata": {},
   "source": [
    "#### **(?) Bias of $ \\, k $-st Hidden Layer** : `parameter`\n",
    "#### $ B^{[k]} = \\underset{k\\times{}1}{\\textbf{b}^{[k]}} = \\begin{bmatrix} b^{[k]}_{1} \\\\ b^{[k]}_{2} \\\\ \\vdots{} \\\\ b^{[k]}_{n^{[k]}} \\end{bmatrix} $"
   ]
  },
  {
   "cell_type": "markdown",
   "metadata": {},
   "source": [
    "#### **(?) Linear transformation of $ \\, k $-st Hidden Layer** :\n",
    "#### $ \\underset{n^{[k]}\\times{}1}{Z^{[k](1)}} = \\textbf{z}^{[k](1)} = \\underset{n^{[k]}\\times{}n^{[k-1]}}{W^{[k]}}\\cdot{}\\underset{n^{[k-1]}\\times{}1}{a^{[k-1](1)}} + \\underset{n^{[k]}\\times{}1}{B^{[k]}} $\n",
    "#### $ \\hspace{0.9375cm} = \\begin{bmatrix} (\\textbf{w}^{[k]}_{1})^{T} \\cdot{} A^{[k-1](1)} + b^{[k]}_{1}  \\\\ (\\textbf{w}^{[k]}_{2})^{T} \\cdot{} A^{[k-1](1)} + b^{[k]}_{2} \\\\ \\vdots{} \\\\ (\\textbf{w}^{[k]}_{n^{[k]}})^{T} \\cdot{} A^{[k-1](1)} + b^{[k]}_{n^{[k]}} \\end{bmatrix} $\n",
    "#### $ \\hspace{0.9375cm} = \\begin{bmatrix} w_{1,1}^{[k]} & w_{1,2}^{[k]} & \\cdots{} & w_{1,n^{[k-1]}}^{[k]} \\\\ w_{2,1}^{[k]} & w_{2,2}^{[k]} & \\cdots{} & w_{2,n^{[k-1]}}^{[k]} \\\\ \\vdots{} & \\vdots{} & \\ddots{} & \\vdots{} \\\\ w^{[k]}_{n^{[k]},1} & w_{n^{[k]},2}^{[k]} & \\vdots{} & w_{n^{[k]},n^{[k-1]}}^{[k]} \\end{bmatrix} \\begin{bmatrix} a^{[k-1](1)}_{1} \\\\ a^{[k-1](1)}_{2} \\\\ \\vdots{} \\\\ a^{[k-1](1)}_{n^{[k-1]}} \\end{bmatrix} + \\begin{bmatrix} b^{[k]}_{1} \\\\ b^{[k]}_{2} \\\\ \\vdots{} \\\\ b^{[k]}_{n^{[k]}} \\end{bmatrix} $\n",
    "#### $ \\hspace{0.9375cm} = \\begin{bmatrix} \\sum{}^{n^{[k-1]}}_{i=1}w^{[k]}_{1,i} \\cdot{} a^{[k-1](1)}_{i} + b^{[k]}_{1} \\\\ \\sum{}^{n^{[k-1]}}_{i=1}w^{[k]}_{2,i} \\cdot{} a^{[k-1](1)}_{i} + b^{[k]}_{2} \\\\ \\vdots{} \\\\ \\sum{}^{n^{[k-1]}}_{i=1}w^{[k]}_{n^{[k]},i} \\cdot{} a^{[k-1](1)}_{i} + b^{[k]}_{n^{[k]}} \\end{bmatrix} $ \n",
    "#### $ \\hspace{0.9375cm} = \\begin{bmatrix} z^{[k](1)}_{1} \\\\ z^{[k](1)}_{2} \\\\ \\vdots{} \\\\ z^{[k](1)}_{n^{[k]}} \\end{bmatrix} $"
   ]
  },
  {
   "cell_type": "markdown",
   "metadata": {},
   "source": [
    "#### **(?) Activate Function of $ \\, k $-st Hidden Layer** :\n",
    "#### $ \\underset{n^{[k]}\\times{}1}{A^{[k](1)}} = \\textbf{a}^{[k](1)} = g(Z^{[k](1)}) $\n",
    "#### $ \\hspace{0.95cm} = \\begin{bmatrix} g(z^{[k](1)}_{1}) \\\\ g(z^{[k](1)}_{2}) \\\\ \\vdots{} \\\\ g(z^{[k](1)}_{n^{[k]}}) \\end{bmatrix} = \\begin{bmatrix} a^{[k](1)}_{1} \\\\ a^{[k](1)}_{2} \\\\ \\vdots{} \\\\ a^{[k](1)}_{n^{[k]}} \\end{bmatrix} $ "
   ]
  },
  {
   "cell_type": "markdown",
   "metadata": {},
   "source": [
    "#### $ \\hspace{3cm} \\vdots{} $"
   ]
  },
  {
   "cell_type": "markdown",
   "metadata": {},
   "source": [
    "#### **(?) Weight of Output Layer** : `parameter`\n",
    "#### $ \\underset{1\\times{}n^{[L-1]}}{W}^{[L]} = \\begin{bmatrix} w_{1}^{[L]} & w_{2}^{[L]} & \\cdots{} & w_{n^{[L-1]}}^{[L]} \\end{bmatrix} = \\begin{bmatrix} (\\textbf{w}^{[L]}_{1})^{T} \\end{bmatrix} $\n",
    "#### ※ $ \\, n^{[L]} $ : node size of output layer"
   ]
  },
  {
   "cell_type": "markdown",
   "metadata": {},
   "source": [
    "#### **(?) Bias of Output Layer** : `parameter`\n",
    "#### $ \\underset{1\\times{}1}{B^{[L]}} = b^{[L]} = b^{[L]} $"
   ]
  },
  {
   "cell_type": "markdown",
   "metadata": {},
   "source": [
    "#### **(?) Linear Transformation of Output Layer** :\n",
    "#### $ \\underset{1\\times{}1}{z^{[L](1)}} = \\underset{1\\times{}n^{[L-1]}}{W^{[L]}}\\cdot{}\\underset{k\\times{}1}{A^{[L-1](1)}} + \\underset{1\\times{}1}{B^{[L]}} $\n",
    "#### $ \\hspace{0.875cm} = \\begin{bmatrix} w_{1}^{[L]} & w_{2}^{[L]} & \\cdots{} & w_{n^{[L-1]}}^{[L]} \\end{bmatrix} \\begin{bmatrix} a^{[L-1](1)}_{1} \\\\ a^{[L-1](1)}_{2} \\\\ \\vdots{} \\\\ a^{[L-1](1)}_{n^{[L-1]}} \\end{bmatrix} + B^{[L]} $\n",
    "#### $ \\hspace{0.875cm} = w^{[L]}_{1} a^{[L-1](1)}_{1} + w^{[L]}_{2} a^{[L-1](1)}_{2} + \\cdots{} + w^{[L]}_{n^{[L-1]}} a^{[L-1](1)}_{n^{[L-1]}} + B^{[L]}  $\n",
    "#### $ \\hspace{0.875cm} = \\displaystyle\\sum^{n^{[L-1]}}_{i=1}w^{[L]}_{i} a^{[L-1](1)}_{i} + B^{[L]} $"
   ]
  },
  {
   "cell_type": "markdown",
   "metadata": {},
   "source": [
    "#### **(?) Estimate Target($ \\hat{\\text{y}} $)** : `output`\n",
    "#### $ \\underset{1\\times{}1}{A^{[L](1)}} = A^{[L](1)} = \\sigma{}(z^{[L](1)}) = \\frac{1}{1+e^{-z^{[L](1)}}} \\;\\; $ (sigmoid)"
   ]
  },
  {
   "cell_type": "markdown",
   "metadata": {},
   "source": [
    "#### **(?) Loss Function = Cost Function** :\n",
    "#### $ \\underset{1\\times{}1}{L^{(1)}} = L^{(1)} = \\ell{}(A^{[L](1)},\\, Y^{(1)}) = -(Y^{(1)}\\log{}(A^{[L](1)})+(1-Y^{(1)})\\log{}(1-A^{[L](1)})) \\;\\; $ (cross-entropy)"
   ]
  },
  {
   "cell_type": "markdown",
   "metadata": {},
   "source": [
    "<b></b>"
   ]
  },
  {
   "cell_type": "markdown",
   "metadata": {},
   "source": [
    "> ## **Back Propagation**"
   ]
  },
  {
   "cell_type": "markdown",
   "metadata": {},
   "source": [
    "#### **[GRAPH]**"
   ]
  },
  {
   "cell_type": "markdown",
   "metadata": {},
   "source": [
    "#### **(1) $ \\frac{\\partial{}L^{(1)}}{\\partial{}A^{[L](1)}} $** : \n",
    "#### $ \\underset{1\\times{}1}{\\frac{\\partial{}L^{(1)}}{\\partial{}A^{[L](1)}}} = \\frac{\\partial{}}{\\partial{}A^{[L](1)}} \\begin{bmatrix} -(Y^{(1)}\\log{}(A^{[L](1)})+(1-Y^{(1)})\\log{}(1-A^{[L](1)})) \\end{bmatrix} $\n",
    "#### $ \\hspace{0.975cm} = - \\frac{Y^{(1)}}{A^{[L](1)}} + \\frac{1-Y^{(1)}}{1-A^{[L](1)}} $"
   ]
  },
  {
   "cell_type": "markdown",
   "metadata": {},
   "source": [
    "#### **(2) $ \\frac{\\partial{}L^{(1)}}{\\partial{}Z^{[L](1)}} $** :\n",
    "#### $ \\underset{1\\times{}1}{\\frac{\\partial{}L^{(1)}}{\\partial{}Z^{[L](1)}}} = \\frac{\\partial{}A^{[L](1)}}{\\partial{}Z^{[L](1)}} \\cdot{} \\frac{\\partial{}L^{(1)}}{\\partial{}A^{[L](1)}} = \\frac{\\partial{}}{\\partial{}Z^{[L](1)}}(\\frac{1}{1+e^{-Z^{[L](1)}}}) \\cdot{} (- \\frac{Y^{(1)}}{A^{[L](1)}} + \\frac{1-Y^{(1)}}{1-A^{[L](1)}}) $ \n",
    "#### $ \\hspace{0.875cm} = A^{[L](1)} - Y^{(1)} $"
   ]
  },
  {
   "cell_type": "markdown",
   "metadata": {},
   "source": [
    "#### **(3) $ \\frac{\\partial{}L^{(1)}}{\\partial{}W^{[L]}} $** :\n",
    "#### $ \\underset{1\\times{}k}{\\frac{\\partial{}L^{(1)}}{\\partial{}W^{[L]}}} = \\frac{\\partial{}L^{(1)}}{\\partial{}A^{[L](1)}} \\cdot{} \\frac{\\partial{}A^{[L](1)}}{\\partial{}Z^{[L](1)}} \\cdot{} \\frac{\\partial{}Z^{[L](1)}}{\\partial{}W^{[L]}} $\n",
    "#### $ \\hspace{0.775cm} = (A^{[L](1)} - Y^{(1)}) \\cdot{} \\frac{\\partial{}Z^{[L](1)}}{\\partial{}W^{[L]}} $\n",
    "#### $ \\hspace{0.775cm} = (A^{[L](1)} - Y^{(1)}) \\cdot{} \\begin{bmatrix} \\frac{\\partial{}Z^{[L](1)}}{\\partial{}w^{[L]}_{1}} & \\frac{\\partial{}Z^{[L](1)}}{\\partial{}w^{[L]}_{2}} & \\cdots{} & \\frac{\\partial{}Z^{[L](1)}}{\\partial{}w^{[L]}_{n^{[L-1]}}} \\end{bmatrix} $ \n",
    "#### $ \\hspace{0.775cm} = (A^{[L](1)} - Y^{(1)}) \\cdot{} \\begin{bmatrix} a^{[L-1](1)}_{1} & a^{[L-1](1)}_{2} & \\cdots{} & a^{[L-1](1)}_{n^{[L-1]}} \\end{bmatrix} $\n",
    "#### $ \\hspace{0.775cm} = (A^{[L](1)} - Y^{(1)}) \\cdot{} (\\underset{1\\times{}k}{A^{[L-1](1)}})^{T} $"
   ]
  },
  {
   "cell_type": "markdown",
   "metadata": {},
   "source": [
    "#### **(4) $ \\frac{\\partial{}L^{(1)}}{\\partial{}B^{[L]}} $** :\n",
    "#### $ \\underset{1\\times{}1}{\\frac{\\partial{}L^{(1)}}{\\partial{}B^{[L]}}} = \\frac{\\partial{}L^{(1)}}{\\partial{}A^{[L](1)}} \\cdot{} \\frac{\\partial{}A^{[L](1)}}{\\partial{}Z^{[L](1)}} \\cdot{} \\frac{\\partial{}Z^{[L](1)}}{\\partial{}B^{[L]}} $\n",
    "#### $ \\hspace{0.6cm} = (A^{[L](1)} - Y^{(1)}) \\cdot{} \\frac{\\partial{}Z^{[L](1)}}{\\partial{}B^{[L]}} $\n",
    "#### $ \\hspace{0.6cm} = (A^{[L](1)} - Y^{(1)}) \\cdot{} 1 $"
   ]
  },
  {
   "cell_type": "markdown",
   "metadata": {},
   "source": [
    "#### $ \\hspace{3cm} \\vdots{} $"
   ]
  },
  {
   "cell_type": "markdown",
   "metadata": {},
   "source": [
    "#### **(?) $ \\frac{\\partial{}L^{(1)}}{\\partial{}A^{[k](1)}} $** :\n",
    "#### $ \\underset{n^{[k]}\\times{}1}{\\frac{\\partial{}L^{(1)}}{\\partial{}A^{[k](1)}}} = \\frac{\\partial{}L^{(1)}}{\\partial{}A^{[L](1)}} \\cdot{} \\frac{\\partial{}A^{[L](1)}}{\\partial{}Z^{[L](1)}} \\cdots{} \\frac{\\partial{}Z^{[k+1](1)}}{\\partial{}A^{[k](1)}} $\n",
    "#### $ \\hspace{0.875cm} = \\frac{\\partial{}L^{(1)}}{\\partial{}Z^{[k+1](1)}} \\cdot{} \\frac{\\partial{}Z^{[k+1](1)}}{\\partial{}A^{[k](1)}} $\n",
    "#### $ \\hspace{0.875cm} = \\frac{\\partial{}L^{(1)}}{\\partial{}Z^{[k+1](1)}} \\cdot{} \\begin{bmatrix} \\frac{\\partial{}Z^{[k+1](1)}}{\\partial{}a^{[k](1)}_{1}} \\\\ \\frac{\\partial{}Z^{[k+1](1)}}{\\partial{}a^{[k](1)}_{2}} \\\\ \\vdots{} \\\\ \\frac{\\partial{}Z^{[k+1](1)}}{\\partial{}a^{[k](1)}_{n^{[k]}}} \\end{bmatrix} = \\frac{\\partial{}L^{(1)}}{\\partial{}Z^{[k+1](1)}} \\cdot{} \\begin{bmatrix} w^{[k+1]}_{1} \\\\ w^{[k+1]}_{2} \\\\ \\vdots{} \\\\ w^{[k+1]}_{n^{[k]}} \\end{bmatrix} $\n",
    "#### $ \\hspace{0.875cm} = \\frac{\\partial{}L^{(1)}}{\\partial{}Z^{[k+1](1)}} \\cdot{} \\underset{n^{[k]}\\times{}1}{(W^{[k+1]})^{T}} $"
   ]
  },
  {
   "cell_type": "markdown",
   "metadata": {},
   "source": [
    "#### **(6) $ \\frac{\\partial{}L^{(1)}}{\\partial{}Z^{[k](1)}} $** :\n",
    "#### $ \\underset{k\\times{}1}{\\frac{\\partial{}L^{(1)}}{\\partial{}Z^{[k](1)}}} = \\frac{\\partial{}L^{(1)}}{\\partial{}A^{[L](1)}} \\cdot{} \\frac{\\partial{}A^{[L](1)}}{\\partial{}Z^{[L](1)}} \\cdot{} \\frac{\\partial{}Z^{[L](1)}}{\\partial{}\\textbf{a}^{[1](1)}} \\cdot{} \\frac{\\partial{}\\textbf{a}^{[1](1)}}{\\partial{}Z^{[k](1)}} $\n",
    "#### $ \\hspace{0.875cm} = (A^{[L](1)} - Y^{(1)}) \\cdot{} \\begin{bmatrix} w^{[2]}_{1} \\\\ w^{[2]}_{2} \\\\ \\vdots{} \\\\ w^{[2]}_{k} \\end{bmatrix} \\cdot{} \\frac{\\partial{}\\textbf{a}^{[1](1)}}{\\partial{}Z^{[k](1)}} $ \n",
    "#### $ \\hspace{0.875cm} = (A^{[L](1)} - Y^{(1)}) \\cdot{} \\begin{bmatrix} w^{[2]}_{1} \\\\ w^{[2]}_{2} \\\\ \\vdots{} \\\\ w^{[2]}_{k} \\end{bmatrix} \\cdot{} \\begin{bmatrix} \\frac{\\partial{}\\textbf{a}^{[1](1)}}{\\partial{}z^{[1](1)}_{1}} \\\\ \\frac{\\partial{}\\textbf{a}^{[1](1)}}{\\partial{}z^{[1](1)}_{2}} \\\\ \\vdots{} \\\\ \\frac{\\partial{}\\textbf{a}^{[1](1)}}{\\partial{}z^{[1](1)}_{k}} \\end{bmatrix} $ \n",
    "#### $ \\hspace{0.875cm} = (A^{[L](1)} - Y^{(1)}) \\cdot{} \\begin{bmatrix} w^{[2]}_{1} \\\\ w^{[2]}_{2} \\\\ \\vdots{} \\\\ w^{[2]}_{k} \\end{bmatrix} \\cdot{} \\begin{bmatrix} \\frac{\\partial{}a^{[1](1)}_{1}}{\\partial{}z^{[1](1)}_{1}} & \\frac{\\partial{}a^{[1](1)}_{2}}{\\partial{}z^{[1](1)}_{1}} & \\cdots{} & \\frac{\\partial{}a^{[1](1)}_{k}}{\\partial{}z^{[1](1)}_{1}} \\\\ \\frac{\\partial{}a^{[1](1)}_{1}}{\\partial{}z^{[1](1)}_{2}} & \\frac{\\partial{}a^{[1](1)}_{2}}{\\partial{}z^{[1](1)}_{2}} & \\cdots{} & \\frac{\\partial{}a^{[1](1)}_{k}}{\\partial{}z^{[1](1)}_{2}} \\\\ \\vdots{} & \\vdots{} & \\ddots{} & \\vdots{} \\\\ \\frac{\\partial{}a^{[1](1)}_{1}}{\\partial{}z^{[1](1)}_{k}} & \\frac{\\partial{}a^{[1](1)}_{2}}{\\partial{}z^{[1](1)}_{k}} & \\cdots{} & \\frac{\\partial{}a^{[1](1)}_{k}}{\\partial{}z^{[1](1)}_{k}} \\end{bmatrix} $ \n",
    "#### $ \\hspace{0.875cm} = (A^{[L](1)} - Y^{(1)}) \\cdot{} \\begin{bmatrix} w^{[2]}_{1} \\\\ w^{[2]}_{2} \\\\ \\vdots{} \\\\ w^{[2]}_{k} \\end{bmatrix} \\cdot{} \\begin{bmatrix} g'(z^{[1](1)}_{1}) & 0 & \\cdots{} & 0 \\\\ 0 & g'(z^{[1](1)}_{2}) & \\cdots{} & 0 \\\\ \\cdots{} & \\cdots{} & \\cdots{} & \\cdots{} \\\\ 0 & 0 & \\cdots{} & g'(z^{[1](1)}_{k}) \\end{bmatrix} $ \n",
    "#### **(⚠️)** 메모리 효율성을 위해 대각 자코비안 행렬을 출력 벡터의 차원으로 축소 **(⚠️)**\n",
    "#### $ \\hspace{0.875cm} = (A^{[L](1)} - Y^{(1)}) \\cdot{} \\begin{bmatrix} w^{[2]}_{1} \\\\ w^{[2]}_{2} \\\\ \\vdots{} \\\\ w^{[2]}_{k} \\end{bmatrix} \\cdot{} \\begin{bmatrix} g'(z^{[1](1)}_{1}) \\\\ g'(z^{[1](1)}_{2}) \\\\ \\vdots{} \\\\ g'(z^{[1](1)}_{k}) \\end{bmatrix} $\n",
    "#### **(⚠️)** 차원 유지를 위해 요소별곱(elementary-wise product;$ \\, \\odot{} $) 계산 **(⚠️)**\n",
    "#### $ \\hspace{0.875cm} = (A^{[L](1)} - Y^{(1)}) \\cdot{} \\begin{bmatrix} w^{[2]}_{1} \\\\ w^{[2]}_{2} \\\\ \\vdots{} \\\\ w^{[2]}_{k} \\end{bmatrix} \\odot{} \\begin{bmatrix} g'(z^{[1](1)}_{1}) \\\\ g'(z^{[1](1)}_{2}) \\\\ \\vdots{} \\\\ g'(z^{[1](1)}_{k}) \\end{bmatrix} $\n",
    "#### $ \\hspace{0.875cm} = (A^{[L](1)} - Y^{(1)}) \\cdot{} \\begin{bmatrix} w^{[2]}_{1} g'(z^{[1](1)}_{1}) \\\\ w^{[2]}_{2} g'(z^{[1](1)}_{2}) \\\\ \\vdots{} \\\\ w^{[2]}_{k} g'(z^{[1](1)}_{k}) \\end{bmatrix} $ \n",
    "#### $ \\hspace{0.875cm} = (A^{[L](1)} - Y^{(1)}) \\cdot{} \\underset{k\\times{}1}{(W^{[2]})^{T}} \\odot{} \\underset{k\\times{}1}{g'(Z^{[k](1)})} $ "
   ]
  },
  {
   "cell_type": "markdown",
   "metadata": {},
   "source": [
    "#### **(7) $ \\frac{\\partial{}L^{(1)}}{\\partial{}W^{[1]}} $** :\n",
    "#### $ \\underset{k\\times{}n}{\\frac{\\partial{}L^{(1)}}{\\partial{}W^{[1]}}} = \\frac{\\partial{}L^{(1)}}{\\partial{}A^{[L](1)}} \\cdot{} \\frac{\\partial{}A^{[L](1)}}{\\partial{}Z^{[L](1)}} \\cdot{} \\frac{\\partial{}Z^{[L](1)}}{\\partial{}\\textbf{a}^{[1](1)}} \\cdot{} \\frac{\\partial{}\\textbf{a}^{[1](1)}}{\\partial{}\\textbf{z}^{[1](1)}} \\cdot{} \\frac{\\partial{}\\textbf{z}^{[1](1)}}{\\partial{}W^{[1]}} $\n",
    "#### $ \\hspace{0.815cm} = (A^{[L](1)} - Y^{(1)}) \\cdot{} (W^{[2]})^{T} \\odot{} g'(\\textbf{z}^{[1](1)}) \\cdot{} \\frac{\\partial{}\\textbf{z}^{[1](1)}}{\\partial{}W^{[1]}} $\n",
    "#### $ \\hspace{0.815cm} = (A^{[L](1)} - Y^{(1)}) \\cdot{} (W^{[2]})^{T} \\odot{} g'(\\textbf{z}^{[1](1)}) \\cdot{} \\begin{bmatrix} \\frac{\\partial{}\\textbf{z}^{[1](1)}}{\\partial{}(\\textbf{w}^{[1]}_{1})^{T}} \\\\ \\frac{\\partial{}\\textbf{z}^{[1](1)}}{\\partial{}(\\textbf{w}^{[1]}_{2})^{T}} \\\\ \\vdots{} \\\\ \\frac{\\partial{}\\textbf{z}^{[1](1)}}{\\partial{}(\\textbf{w}^{[1]}_{k})^{T}} \\end{bmatrix} $\n",
    "#### **(⚠️)** 메모리 효율성을 위해 대각 자코비안 $ \\, 3 $ 차원 텐서를 행렬로 축소 **(⚠️)**\n",
    "#### $ \\hspace{0.815cm} = (A^{[L](1)} - Y^{(1)}) \\cdot{} (W^{[2]})^{T} \\odot{} g'(\\textbf{z}^{[1](1)}) \\cdot{} \\begin{bmatrix} \\frac{\\partial{}z_{1}^{[1](1)}}{\\partial{}w_{1,1}^{[1]}} & \\frac{\\partial{}z_{1}^{[1](1)}}{\\partial{}w_{1,2}^{[1]}} & \\cdots & \\frac{\\partial{}z_{1}^{[1](1)}}{\\partial{}w_{1,n}^{[1]}} \\\\ \\frac{\\partial{}z_{2}^{[1](1)}}{\\partial{}w_{2,1}^{[1]}} & \\frac{\\partial{}z_{2}^{[1](1)}}{\\partial{}w_{2,2}^{[1]}} & \\cdots & \\frac{\\partial{}z_{2}^{[1](1)}}{\\partial{}w_{2,n}^{[1]}} \\\\ \\vdots{} & \\vdots{} & \\ddots{} & \\vdots{} \\\\ \\frac{\\partial{}z_{k}^{[1](1)}}{\\partial{}w_{k,1}^{[1]}} & \\frac{\\partial{}z_{k}^{[1](1)}}{\\partial{}w_{k,2}^{[1]}} & \\cdots & \\frac{\\partial{}z_{k}^{[1](1)}}{\\partial{}w_{k,n}^{[1]}} \\end{bmatrix} $\n",
    "#### $ \\hspace{0.815cm} = (A^{[L](1)} - Y^{(1)}) \\cdot{} (W^{[2]})^{T} \\odot{} g'(\\textbf{z}^{[1](1)}) \\cdot{} \\underset{k\\times{}n}{\\begin{bmatrix} x^{(1)}_{1} & x^{(1)}_{2} & \\cdots{} & x^{(1)}_{n} \\\\ x^{(1)}_{1} & x^{(1)}_{2} & \\cdots{} & x^{(1)}_{n} \\\\ \\vdots{} & \\vdots{} & \\ddots{} & \\vdots{} \\\\ x^{(1)}_{1} & x^{(1)}_{2} & \\cdots{} & x^{(1)}_{n} \\end{bmatrix}} $\n",
    "#### **(⚠️)** 메모리 효율성을 위해 반복 행렬을 축소 **(⚠️)**\n",
    "#### $ \\hspace{0.815cm} = (A^{[L](1)} - Y^{(1)}) \\cdot{} (W^{[2]})^{T} \\odot{} g'(\\textbf{z}^{[1](1)}) \\cdot{} \\begin{bmatrix} x^{(1)}_{1} & x^{(1)}_{2} & \\cdots{} & x^{(1)}_{n} \\end{bmatrix} $\n",
    "#### $ \\hspace{0.815cm} = (A^{[L](1)} - Y^{(1)}) \\cdot{} (W^{[2]})^{T} \\odot{} g'(\\textbf{z}^{[1](1)}) \\cdot{} \\underset{1\\times{}n}{\\textbf({x}^{(1)})^{T}} $"
   ]
  },
  {
   "cell_type": "markdown",
   "metadata": {},
   "source": [
    "#### **(8) $ \\frac{\\partial{}L^{(1)}}{\\partial{}\\textbf{b}^{[1]}} $** :\n",
    "#### $ \\underset{k\\times{}1}{\\frac{\\partial{}L^{(1)}}{\\partial{}\\textbf{b}^{[1]}}} = \\frac{\\partial{}L^{(1)}}{\\partial{}A^{[L](1)}} \\cdot{} \\frac{\\partial{}A^{[L](1)}}{\\partial{}Z^{[L](1)}} \\cdot{} \\frac{\\partial{}Z^{[L](1)}}{\\partial{}\\textbf{a}^{[1](1)}} \\cdot{} \\frac{\\partial{}\\textbf{a}^{[1](1)}}{\\partial{}\\textbf{z}^{[1](1)}} \\cdot{} \\frac{\\partial{}\\textbf{z}^{[1](1)}}{\\partial{}\\textbf{b}^{[1]}} $ \n",
    "#### $ \\hspace{0.675cm} = (A^{[L](1)} - Y^{(1)}) \\cdot{} (W^{[2]})^{T} \\odot{} g'(\\textbf{z}^{[1](1)}) \\cdot{} \\frac{\\partial{}\\textbf{z}^{[1](1)}}{\\partial{}\\textbf{b}^{[1]}} $\n",
    "#### $ \\hspace{0.675cm} = (A^{[L](1)} - Y^{(1)}) \\cdot{} (W^{[2]})^{T} \\odot{} g'(\\textbf{z}^{[1](1)}) \\cdot{} \\begin{bmatrix} \\frac{\\partial{} z_{1}^{[1]}}{\\partial{} b_{1}^{[1]}} & \\frac{\\partial{} z_{2}^{[1]}}{\\partial{} b_{1}^{[1]}} & \\cdots & \\frac{\\partial{} z_{k}^{[1]}}{\\partial{} b_{1}^{[1]}} \\\\ \\frac{\\partial{} z_{1}^{[1]}}{\\partial{} b_{2}^{[1]}} & \\frac{\\partial{} z_{2}^{[1]}}{\\partial{} b_{2}^{[1]}} & \\cdots & \\frac{\\partial{} z_{k}^{[1]}}{\\partial{} b_{2}^{[1]}} \\\\ \\vdots{} & \\vdots{} & \\ddots{} & \\vdots{} \\\\ \\frac{\\partial{} z_{1}^{[1]}}{\\partial{} b_{k}^{[1]}} & \\frac{\\partial{} z_{2}^{[1]}}{\\partial{} b_{k}^{[1]}} & \\cdots & \\frac{\\partial{} z_{k}^{[1]}}{\\partial{} b_{k}^{[1]}} \\end{bmatrix} $\n",
    "#### $ \\hspace{0.675cm} = (A^{[L](1)} - Y^{(1)}) \\cdot{} (W^{[2]})^{T} \\odot{} g'(\\textbf{z}^{[1](1)}) \\cdot{} \\begin{bmatrix} 1 & 0 & \\cdots & 0 \\\\ 0 & 1 & \\cdots & 0 \\\\ \\vdots{} & \\vdots{} & \\ddots{} & \\vdots{} \\\\ 0 & 0 & \\cdots & 1 \\end{bmatrix} $\n",
    "#### **(⚠️)** 메모리 효율성을 위해 대각 자코비안 행렬을 출력 벡터의 차원으로 축소 **(⚠️)**\n",
    "#### $ \\hspace{0.675cm} = (A^{[L](1)} - Y^{(1)}) \\cdot{} (W^{[2]})^{T} \\odot{} g'(\\textbf{z}^{[1](1)}) \\cdot{} \\underset{k\\times{}1}{\\begin{bmatrix} 1 \\\\ 1 \\\\ 1 \\\\ 1 \\end{bmatrix}} $\n",
    "#### **(⚠️)** 차원 유지를 위해 요소별곱(elementary-wise product;$ \\, \\odot{} $) 계산 **(⚠️)**\n",
    "#### $ \\hspace{0.675cm} = (A^{[L](1)} - Y^{(1)}) \\cdot{} (W^{[2]})^{T} \\odot{} g'(\\textbf{z}^{[1](1)}) \\odot{} \\underset{k\\times{}1}{\\begin{bmatrix} 1 \\\\ 1 \\\\ 1 \\\\ 1 \\end{bmatrix}} $"
   ]
  },
  {
   "cell_type": "markdown",
   "metadata": {},
   "source": [
    "<b></b>"
   ]
  },
  {
   "cell_type": "markdown",
   "metadata": {},
   "source": [
    "> ## **Optimization**"
   ]
  },
  {
   "cell_type": "markdown",
   "metadata": {},
   "source": [
    "#### **(1) Update $ \\, W^{[1]} $** :\n",
    "#### $ W^{[1]} = W^{[1]} - \\alpha{} \\cdot{} \\frac{\\partial{}L^{(1)}}{\\partial{}W^{[1]}} $\n",
    "#### ※ $ \\, \\alpha{} $ : learning rate"
   ]
  },
  {
   "cell_type": "markdown",
   "metadata": {},
   "source": [
    "#### **(2) Update $ \\, b^{[1]} $** :\n",
    "#### $ b^{[1]} = b^{[1]} - \\alpha{} \\cdot{} \\frac{\\partial{}L^{(1)}}{\\partial{}b^{[1]}} $"
   ]
  },
  {
   "cell_type": "markdown",
   "metadata": {},
   "source": [
    "#### **(1) Update $ \\, W^{[2]} $** :\n",
    "#### $ W^{[2]} = W^{[2]} - \\alpha{} \\cdot{} \\frac{\\partial{}L^{(1)}}{\\partial{}W^{[2]}} $"
   ]
  },
  {
   "cell_type": "markdown",
   "metadata": {},
   "source": [
    "#### **(2) Update $ \\, b^{[2]} $** :\n",
    "#### $ b^{[2]} = b^{[2]} - \\alpha{} \\cdot{} \\frac{\\partial{}L^{(1)}}{\\partial{}b^{[2]}} $"
   ]
  },
  {
   "cell_type": "markdown",
   "metadata": {},
   "source": [
    "<b></b>"
   ]
  }
 ],
 "metadata": {
  "kernelspec": {
   "display_name": "Python 3",
   "language": "python",
   "name": "python3"
  },
  "language_info": {
   "codemirror_mode": {
    "name": "ipython",
    "version": 3
   },
   "file_extension": ".py",
   "mimetype": "text/x-python",
   "name": "python",
   "nbconvert_exporter": "python",
   "pygments_lexer": "ipython3",
   "version": "3.8.12"
  },
  "orig_nbformat": 4
 },
 "nbformat": 4,
 "nbformat_minor": 2
}
