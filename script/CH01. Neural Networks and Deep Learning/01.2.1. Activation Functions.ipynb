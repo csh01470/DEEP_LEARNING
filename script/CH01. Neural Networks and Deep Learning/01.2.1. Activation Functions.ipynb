{
 "cells": [
  {
   "attachments": {},
   "cell_type": "markdown",
   "metadata": {},
   "source": [
    "# CH01.2. **Activation Functions**"
   ]
  },
  {
   "cell_type": "markdown",
   "metadata": {},
   "source": [
    "> ## **Sigmoid**"
   ]
  },
  {
   "cell_type": "markdown",
   "metadata": {},
   "source": [
    "#### **[GRAPH]**"
   ]
  },
  {
   "cell_type": "markdown",
   "metadata": {},
   "source": [
    "#### **(1) 표현식** : $ f(x) = \\sigma{}(x) = \\frac{1}{1+e^{-x}} $"
   ]
  },
  {
   "cell_type": "markdown",
   "metadata": {},
   "source": [
    "#### **(2) 도함수** : $ f'(x) = f(x) \\cdot{} (1-f(x)) $"
   ]
  },
  {
   "cell_type": "markdown",
   "metadata": {},
   "source": [
    "<b></b>"
   ]
  },
  {
   "cell_type": "markdown",
   "metadata": {},
   "source": [
    "> ## **Hyperbolic Tangent(tanh)**"
   ]
  },
  {
   "cell_type": "markdown",
   "metadata": {},
   "source": [
    "#### **[GRAPH]**"
   ]
  },
  {
   "cell_type": "markdown",
   "metadata": {},
   "source": [
    "#### **(1) 표현식** : $ f(x) = \\text{tanh}(x) = \\frac{e^{x}-e^{-x}}{e^{x}+e^{-x}} $"
   ]
  },
  {
   "cell_type": "markdown",
   "metadata": {},
   "source": [
    "#### **(2) 도함수** : $ f'(x) = 1 - f(x)^{2} $"
   ]
  },
  {
   "cell_type": "markdown",
   "metadata": {},
   "source": [
    "<b></b>"
   ]
  },
  {
   "cell_type": "markdown",
   "metadata": {},
   "source": [
    "> ## **Rectified Linear Unit(RELU)**"
   ]
  },
  {
   "cell_type": "markdown",
   "metadata": {},
   "source": [
    "#### **[GRAPH]**"
   ]
  },
  {
   "cell_type": "markdown",
   "metadata": {},
   "source": [
    "#### **(1) 표현식** : $ f(x) = \\text{max}(0,\\, x) $"
   ]
  },
  {
   "cell_type": "markdown",
   "metadata": {},
   "source": [
    "#### **(2) 도함수** : $ f'(x) = \\begin{cases} 1, \\;\\; x > 0 \\\\ 0, \\;\\; x \\leq{} 0 \\end{cases} $"
   ]
  },
  {
   "cell_type": "markdown",
   "metadata": {},
   "source": [
    "<b></b>"
   ]
  },
  {
   "cell_type": "markdown",
   "metadata": {},
   "source": [
    "> ## **Leaky Rectified Linear Unit(Leaky RELU)**"
   ]
  },
  {
   "cell_type": "markdown",
   "metadata": {},
   "source": [
    "#### **[GRAPH]**"
   ]
  },
  {
   "cell_type": "markdown",
   "metadata": {},
   "source": [
    "#### **(1) 표현식** : $ f(x) = \\text{max}(\\alpha{} \\cdot{} x,\\, x) $\n",
    "#### ※ (generally) $ \\, 0.01 \\leq{} \\alpha{} \\leq{} 0.1 $"
   ]
  },
  {
   "cell_type": "markdown",
   "metadata": {},
   "source": [
    "#### **(2) 도함수** : $ f'(x) = \\begin{cases} 1, \\;\\; x > 0 \\\\ \\alpha{}, \\;\\; x \\leq{} 0 \\end{cases} $"
   ]
  },
  {
   "cell_type": "markdown",
   "metadata": {},
   "source": [
    "<b></b>"
   ]
  },
  {
   "cell_type": "markdown",
   "metadata": {},
   "source": [
    "> ## **Exponential Linear Unit (ELU)**"
   ]
  },
  {
   "cell_type": "markdown",
   "metadata": {},
   "source": [
    "#### **[GRAPH]**"
   ]
  },
  {
   "cell_type": "markdown",
   "metadata": {},
   "source": [
    "#### **(1) 표현식** : $ f(x) = \\begin{cases} x, \\;\\;\\;\\;\\;\\;\\;\\;\\;\\;\\;\\;\\;\\;\\;\\;\\; x > 0 \\\\ \\alpha{} \\cdot{} ( e^{x} - 1), \\;\\; x \\leq{} 0 \\end{cases} $\n",
    "#### ※ (generally) $ \\, 0.1 \\leq{} \\alpha{} \\leq{} 1 $"
   ]
  },
  {
   "cell_type": "markdown",
   "metadata": {},
   "source": [
    "#### **(2) 도함수** : $ f'(x) = \\begin{cases} 1, \\;\\; x > 0 \\\\ f(x) + \\alpha{}, \\;\\; x \\leq{} 0 \\end{cases} $"
   ]
  },
  {
   "cell_type": "markdown",
   "metadata": {},
   "source": [
    "<b></b>"
   ]
  },
  {
   "cell_type": "markdown",
   "metadata": {},
   "source": [
    "> ## **Swish**"
   ]
  },
  {
   "cell_type": "markdown",
   "metadata": {},
   "source": [
    "#### **[GRAPH]**"
   ]
  },
  {
   "cell_type": "markdown",
   "metadata": {},
   "source": [
    "#### **(1) 표현식** : $ f(x) = x \\cdot{} \\sigma{}(\\beta{} \\cdot{} x) = x \\cdot{} \\frac{1}{1+e^{-\\beta{}\\cdot{}x}} $\n",
    "#### ※ (generally) $ \\, 0.5 \\leq{} \\beta{} \\leq{} 2 $"
   ]
  },
  {
   "cell_type": "markdown",
   "metadata": {},
   "source": [
    "#### **(2) 도함수** : $ f'(x) = f(x) + \\sigma{}(\\beta{} \\cdot{} x)(1 - \\beta{} \\cdot{} f(x)) $\n",
    "#### $ \\hspace{2.275cm} = \\sigma{}(\\beta{} \\cdot{} x) + \\beta{} \\cdot{} x \\cdot{} \\sigma{}(\\beta{}\\cdot{}x)(1 - \\sigma{}(\\beta{} \\cdot{} x)) $"
   ]
  }
 ],
 "metadata": {
  "kernelspec": {
   "display_name": "Python 3",
   "language": "python",
   "name": "python3"
  },
  "language_info": {
   "codemirror_mode": {
    "name": "ipython",
    "version": 3
   },
   "file_extension": ".py",
   "mimetype": "text/x-python",
   "name": "python",
   "nbconvert_exporter": "python",
   "pygments_lexer": "ipython3",
   "version": "3.8.12"
  },
  "orig_nbformat": 4
 },
 "nbformat": 4,
 "nbformat_minor": 2
}
