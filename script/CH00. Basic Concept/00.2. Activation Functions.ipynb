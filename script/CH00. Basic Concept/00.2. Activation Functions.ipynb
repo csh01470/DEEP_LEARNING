{
 "cells": [
  {
   "attachments": {},
   "cell_type": "markdown",
   "metadata": {},
   "source": [
    "# CH00.2. **Activation Functions**"
   ]
  },
  {
   "cell_type": "markdown",
   "metadata": {},
   "source": [
    "> ## **Activation Function**"
   ]
  },
  {
   "cell_type": "markdown",
   "metadata": {},
   "source": [
    "#### **(1) 정의** : 신경망의 뉴런이 입력 신호의 가중합을 특정 규칙에 따라 변환하여 출력 신호를 생성하는 함수"
   ]
  },
  {
   "cell_type": "markdown",
   "metadata": {},
   "source": [
    "#### **(2) 역할** : 비선형성 도입을 통해 복잡한 패턴을 학습"
   ]
  },
  {
   "cell_type": "markdown",
   "metadata": {},
   "source": [
    "#### **(3) 종류** :\n",
    "#### $ \\hspace{0.15cm} $ ① Sigmoid\n",
    "#### $ \\hspace{0.15cm} $ ② Hyperbolic Tangent(tanh)\n",
    "#### $ \\hspace{0.15cm} $ ③ Rectified Linear Unit(RELU)\n",
    "#### $ \\hspace{0.15cm} $ ④ Leaky Rectified Linear Unit(Leaky RELU)\n",
    "#### $ \\hspace{0.15cm} $ ⑤ Exponential Linear Unit(ELU)\n",
    "#### $ \\hspace{0.15cm} $ ⑥ Swish"
   ]
  },
  {
   "cell_type": "markdown",
   "metadata": {},
   "source": [
    "<b></b>"
   ]
  },
  {
   "cell_type": "markdown",
   "metadata": {},
   "source": [
    "> ## **Sigmoid**"
   ]
  },
  {
   "cell_type": "markdown",
   "metadata": {},
   "source": [
    "#### **(1) 정의** : 입력값을 $ \\, 0, \\, 1 \\, $ 사이의 값으로 변환하여, 출력을 확률처럼 해석할 수 있는 함수\n",
    "#### $ \\hspace{0.15cm} $ ① 함수\n",
    "#### $ \\hspace{0.3cm} \\Rightarrow{} h(x) = \\sigma{}(x) = \\frac{1}{1+e^{-x}} $\n",
    "#### $ \\hspace{0.3cm} $ **[GRAPH]**\n",
    "#### $ \\hspace{0.15cm} $ ② 도함수\n",
    "#### $ \\hspace{0.3cm} \\Rightarrow{} h'(x) = h(x) (1-h(x)) $\n",
    "#### $ \\hspace{0.3cm} $ **[GRAPH]**"
   ]
  },
  {
   "cell_type": "markdown",
   "metadata": {},
   "source": [
    "#### **(`WHY?`)** **[LATEX]**"
   ]
  },
  {
   "cell_type": "markdown",
   "metadata": {},
   "source": [
    "<b></b>"
   ]
  },
  {
   "cell_type": "markdown",
   "metadata": {},
   "source": [
    "> ## **Hyperbolic Tangent(tanh)**"
   ]
  },
  {
   "cell_type": "markdown",
   "metadata": {},
   "source": [
    "#### **(1) 정의** : **[CONTENTS]**\n",
    "#### $ \\hspace{0.15cm} $ ① 함수\n",
    "#### $ \\hspace{0.15cm} \\Rightarrow{} h(x) = \\text{tanh}(x) = \\frac{e^{x}-e^{-x}}{e^{x}+e^{-x}} $\n",
    "#### $ \\hspace{0.15cm} $ **[GRAPH]**\n",
    "#### $ \\hspace{0.15cm} $ ② 도함수\n",
    "#### $ \\hspace{0.15cm} \\Rightarrow{} h'(x) = 1 - h(x)^{2} $\n",
    "#### $ \\hspace{0.15cm} $ **[GRAPH]**"
   ]
  },
  {
   "cell_type": "markdown",
   "metadata": {},
   "source": [
    "<b></b>"
   ]
  },
  {
   "cell_type": "markdown",
   "metadata": {},
   "source": [
    "> ## **Rectified Linear Unit(RELU)**"
   ]
  },
  {
   "cell_type": "markdown",
   "metadata": {},
   "source": [
    "#### **(1) 정의** : **[CONTENTS]**\n",
    "#### $ \\hspace{0.15cm} $ ① 함수\n",
    "#### $ \\hspace{0.15cm} \\Rightarrow{} h(x) = \\text{max}(0,\\, x) $\n",
    "#### $ \\hspace{0.15cm} $ **[GRAPH]**\n",
    "#### $ \\hspace{0.15cm} $ ② 도함수\n",
    "#### $ \\hspace{0.15cm} \\Rightarrow{} h'(x) = \\begin{cases} 1, \\;\\; x > 0 \\\\ 0, \\;\\; x \\leq{} 0 \\end{cases} $\n",
    "#### $ \\hspace{0.15cm} $ **[GRAPH]**"
   ]
  },
  {
   "cell_type": "markdown",
   "metadata": {},
   "source": [
    "<b></b>"
   ]
  },
  {
   "cell_type": "markdown",
   "metadata": {},
   "source": [
    "> ## **Leaky Rectified Linear Unit(Leaky RELU)**"
   ]
  },
  {
   "cell_type": "markdown",
   "metadata": {},
   "source": [
    "#### **(1) 정의** : **[CONTENTS]**\n",
    "#### $ \\hspace{0.15cm} $ ① 함수\n",
    "#### $ \\Rightarrow{} h(x) = \\text{max}(\\alpha{} \\cdot{} x,\\, x) $\n",
    "#### $ \\hspace{0.15cm} $ **[GRAPH]**\n",
    "#### $ \\hspace{0.15cm} $ ② 도함수\n",
    "#### $ \\Leftrightarrow{} h'(x) = \\begin{cases} 1, \\;\\; x > 0 \\\\ \\alpha{}, \\;\\; x \\leq{} 0 \\end{cases} $\n",
    "#### $ \\hspace{0.15cm} $ **[GRAPH]**"
   ]
  },
  {
   "cell_type": "markdown",
   "metadata": {},
   "source": [
    "<b></b>"
   ]
  },
  {
   "cell_type": "markdown",
   "metadata": {},
   "source": [
    "> ## **Exponential Linear Unit(ELU)**"
   ]
  },
  {
   "cell_type": "markdown",
   "metadata": {},
   "source": [
    "#### **(1) 정의** : **[CONTENTS]**\n",
    "#### $ \\hspace{0.15cm} $ ① 함수\n",
    "#### $ \\hspace{0.15cm} \\Rightarrow{} h(x) = \\begin{cases} x, \\;\\;\\;\\;\\;\\;\\;\\;\\;\\;\\;\\;\\;\\;\\;\\;\\; x > 0 \\\\ \\alpha{} \\cdot{} ( e^{x} - 1), \\;\\; x \\leq{} 0 \\end{cases} $\n",
    "#### $ \\hspace{0.15cm} $ **[GRAPH]**\n",
    "#### $ \\hspace{0.15cm} $ ② 도함수\n",
    "#### $ \\hspace{0.15cm} \\Rightarrow{} h'(x) = \\begin{cases} 1, \\;\\;\\;\\;\\;\\;\\;\\;\\;\\;\\;\\;\\;\\; x > 0 \\\\ h(x) + \\alpha{}, \\;\\; x \\leq{} 0 \\end{cases} $\n",
    "#### $ \\hspace{0.15cm} $ **[GRAPH]**"
   ]
  },
  {
   "cell_type": "markdown",
   "metadata": {},
   "source": [
    "<b></b>"
   ]
  },
  {
   "cell_type": "markdown",
   "metadata": {},
   "source": [
    "> ## **Swish**"
   ]
  },
  {
   "cell_type": "markdown",
   "metadata": {},
   "source": [
    "#### **(1) 정의** : **[CONTENTS]**\n",
    "#### $ \\hspace{0.15cm} $ ① 함수\n",
    "#### $ \\hspace{0.3cm} \\Rightarrow{} h(x) = x \\cdot{} \\sigma{}(\\beta{} \\cdot{} x) = x \\cdot{} \\frac{1}{1+e^{-\\beta{}\\cdot{}x}} $\n",
    "#### $ \\hspace{0.3cm} $ **[GRAPH]**\n",
    "#### $ \\hspace{0.15cm} $ ② 도함수\n",
    "#### $ \\hspace{0.3cm} \\Rightarrow{} h'(x) = f(x) + \\sigma{}(\\beta{} \\cdot{} x)(1 - \\beta{} \\cdot{} h(x)) = \\sigma{}(\\beta{} \\cdot{} x) + \\beta{} \\cdot{} x \\cdot{} \\sigma{}(\\beta{}\\cdot{}x)(1 - \\sigma{}(\\beta{} \\cdot{} x)) $\n",
    "#### $ \\hspace{0.3cm} $ **[GRAPH]**"
   ]
  },
  {
   "cell_type": "markdown",
   "metadata": {},
   "source": [
    "<b></b>"
   ]
  }
 ],
 "metadata": {
  "kernelspec": {
   "display_name": "Python 3",
   "language": "python",
   "name": "python3"
  },
  "language_info": {
   "codemirror_mode": {
    "name": "ipython",
    "version": 3
   },
   "file_extension": ".py",
   "mimetype": "text/x-python",
   "name": "python",
   "nbconvert_exporter": "python",
   "pygments_lexer": "ipython3",
   "version": "3.8.12"
  },
  "orig_nbformat": 4
 },
 "nbformat": 4,
 "nbformat_minor": 2
}
