{
 "cells": [
  {
   "attachments": {},
   "cell_type": "markdown",
   "metadata": {},
   "source": [
    "# CH02.5. **Normalization**"
   ]
  },
  {
   "cell_type": "markdown",
   "metadata": {},
   "source": [
    "> ## **Input Normalization**"
   ]
  },
  {
   "cell_type": "markdown",
   "metadata": {},
   "source": [
    "#### **(1) 정의** : 입력 데이터를 정규화하여 평균을 $ \\, 0 $ 으로 표준편차를 $ \\, 1 $ 로 조정하는 방법"
   ]
  },
  {
   "cell_type": "markdown",
   "metadata": {},
   "source": [
    "#### **(3) 적용 방식** :\n",
    "#### $ \\hspace{0.15cm} $ ① Cost function\n",
    "#### $ \\hspace{0.6cm} J(W^{[1]},\\, \\textbf{b}^{[1]},\\, \\cdots{},\\, W^{[L]},\\, \\textbf{b}^{[L]}) = \\frac{1}{m} \\cdot{} \\displaystyle\\sum^{m}_{i=1} \\ell(a^{[L](i)},\\, y^{(i)}) + \\frac{\\lambda{}}{2m} \\cdot{} \\overbrace{\\displaystyle\\sum^{L}_{l=1} || W^{[l]} ||^{2}_{F}}^{\\text{Frobenius norm}} $\n",
    "#### $ \\hspace{4.95cm} = \\frac{1}{m} \\cdot{} \\displaystyle\\sum^{m}_{i=1} \\ell(a^{[L](i)},\\, y^{(i)}) + \\frac{\\lambda{}}{2m} \\cdot{} \\displaystyle\\sum^{L}_{l=1} \\displaystyle\\sum^{i=n^{[l]}}_{i=1} \\displaystyle\\sum^{n^{[l-1]}}_{k=1} (w^{[l]}_{i,\\,k})^{2} $\n",
    "#### $ \\hspace{0.15cm} $ ② Back-propagation\n",
    "#### $ \\hspace{0.6cm} \\frac{\\partial{}J}{\\partial{}W^{[l]}} = \\frac{1}{m} \\cdot{} \\frac{\\partial{}J}{\\partial{}Z^{[l]}} \\cdot{} (A^{[l-2]})^{T} + \\frac{\\lambda{}}{m} \\cdot{} W^{[l]} $"
   ]
  },
  {
   "cell_type": "markdown",
   "metadata": {},
   "source": [
    "<b></b>"
   ]
  },
  {
   "cell_type": "markdown",
   "metadata": {},
   "source": [
    "> ## **Batch Normalization**"
   ]
  },
  {
   "cell_type": "markdown",
   "metadata": {},
   "source": [
    "#### **(1) 정의** : **[CONTENTS]**"
   ]
  }
 ],
 "metadata": {
  "kernelspec": {
   "display_name": "Python 3",
   "language": "python",
   "name": "python3"
  },
  "language_info": {
   "codemirror_mode": {
    "name": "ipython",
    "version": 3
   },
   "file_extension": ".py",
   "mimetype": "text/x-python",
   "name": "python",
   "nbconvert_exporter": "python",
   "pygments_lexer": "ipython3",
   "version": "3.8.12"
  },
  "orig_nbformat": 4
 },
 "nbformat": 4,
 "nbformat_minor": 2
}
