{
 "cells": [
  {
   "attachments": {},
   "cell_type": "markdown",
   "metadata": {},
   "source": [
    "# CH02.1. **Regularizations**"
   ]
  },
  {
   "cell_type": "markdown",
   "metadata": {},
   "source": [
    "> ## **L2 Regularization**"
   ]
  },
  {
   "cell_type": "markdown",
   "metadata": {},
   "source": [
    "#### **(1) 정의** : 비용 함수에 가중치 프로베니우스 놈을 추가하여, 학습 과정에서 가중치가 지나치게 커지는 것을 방지하는 방법"
   ]
  },
  {
   "cell_type": "markdown",
   "metadata": {},
   "source": [
    "#### **(2) 적용 방식** :\n",
    "#### $ \\hspace{0.15cm} $ ① Cost function\n",
    "#### $ \\hspace{0.6cm} J(W^{[1]},\\, \\textbf{b}^{[1]},\\, \\cdots{},\\, W^{[L]},\\, \\textbf{b}^{[L]}) = \\frac{1}{m} \\cdot{} \\displaystyle\\sum^{m}_{i=1} \\ell(a^{[L](i)},\\, y^{(i)}) + \\frac{\\lambda{}}{2m} \\cdot{} \\overbrace{\\displaystyle\\sum^{L}_{l=1} || W^{[l]} ||^{2}_{F}}^{\\text{Frobenius norm}} $\n",
    "#### $ \\hspace{4.95cm} = \\frac{1}{m} \\cdot{} \\displaystyle\\sum^{m}_{i=1} \\ell(a^{[L](i)},\\, y^{(i)}) + \\frac{\\lambda{}}{2m} \\cdot{} \\displaystyle\\sum^{L}_{l=1} \\displaystyle\\sum^{i=n^{[l]}}_{i=1} \\displaystyle\\sum^{n^{[l-1]}}_{k=1} (w^{[l]}_{i,\\,k})^{2} $\n",
    "#### ※ norm : 벡터의 크기나 길이를 측정하는 방법\n",
    "#### $ \\hspace{0.15cm} $ ② Back-propagation\n",
    "#### $ \\hspace{0.6cm} \\frac{\\partial{}J}{\\partial{}W^{[l]}} = \\frac{1}{m} \\cdot{} \\frac{\\partial{}J}{\\partial{}Z^{[l]}} \\cdot{} (A^{[l-2]})^{T} + \\frac{\\lambda{}}{m} \\cdot{} W^{[l]} $"
   ]
  },
  {
   "cell_type": "markdown",
   "metadata": {},
   "source": [
    "#### **(3) 기능** : 가중치 크기 제한(weight decay) $ \\rightarrow{} $ 모델 복잡성 감소 $ \\rightarrow{} $ 과적합(overfitting) 방지 $ \\rightarrow{} $ 일반화 성능 향상"
   ]
  },
  {
   "cell_type": "markdown",
   "metadata": {},
   "source": [
    "<b></b>"
   ]
  },
  {
   "cell_type": "markdown",
   "metadata": {},
   "source": [
    "> ## **Drop Out**"
   ]
  },
  {
   "cell_type": "markdown",
   "metadata": {},
   "source": [
    "#### **(1) 정의** : **[CONTENTS]**"
   ]
  },
  {
   "cell_type": "markdown",
   "metadata": {},
   "source": [
    "#### **(2) 적용 방식** :\n",
    "#### $ \\hspace{0.15cm} $ ① Activate Function\n",
    "#### $ \\hspace{0.6cm} $ **[LATEX]**\n",
    "#### $ \\hspace{0.15cm} $ ② Back-propagation\n",
    "#### $ \\hspace{0.6cm} $ **[LATEX]**"
   ]
  },
  {
   "cell_type": "markdown",
   "metadata": {},
   "source": [
    "#### **(WHY?)**"
   ]
  },
  {
   "cell_type": "markdown",
   "metadata": {},
   "source": [
    "#### **(3) 기능** : **[CONTENTS]**"
   ]
  },
  {
   "cell_type": "markdown",
   "metadata": {},
   "source": [
    "<b></b>"
   ]
  },
  {
   "cell_type": "markdown",
   "metadata": {},
   "source": [
    "> ## **Early Stopping**"
   ]
  },
  {
   "cell_type": "markdown",
   "metadata": {},
   "source": [
    "#### **(1) 정의** : **[CONTENTS]**"
   ]
  },
  {
   "cell_type": "markdown",
   "metadata": {},
   "source": [
    "#### **(2) 적용 방식** : **[CONTENTS]**"
   ]
  },
  {
   "cell_type": "markdown",
   "metadata": {},
   "source": [
    "#### **(3) 기능** : **[CONTENTS]**"
   ]
  },
  {
   "cell_type": "markdown",
   "metadata": {},
   "source": [
    "<b></b>"
   ]
  },
  {
   "cell_type": "markdown",
   "metadata": {},
   "source": [
    "<b></b>"
   ]
  },
  {
   "cell_type": "markdown",
   "metadata": {},
   "source": [
    "<b></b>"
   ]
  },
  {
   "cell_type": "markdown",
   "metadata": {},
   "source": [
    "<b></b>"
   ]
  },
  {
   "cell_type": "markdown",
   "metadata": {},
   "source": [
    "<b></b>"
   ]
  }
 ],
 "metadata": {
  "kernelspec": {
   "display_name": "Python 3",
   "language": "python",
   "name": "python3"
  },
  "language_info": {
   "codemirror_mode": {
    "name": "ipython",
    "version": 3
   },
   "file_extension": ".py",
   "mimetype": "text/x-python",
   "name": "python",
   "nbconvert_exporter": "python",
   "pygments_lexer": "ipython3",
   "version": "3.8.18"
  },
  "orig_nbformat": 4
 },
 "nbformat": 4,
 "nbformat_minor": 2
}
